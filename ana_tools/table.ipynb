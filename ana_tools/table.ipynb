{
 "cells": [
  {
   "cell_type": "code",
   "execution_count": 1,
   "metadata": {},
   "outputs": [],
   "source": [
    "import pandas as pd\n",
    "import matplotlib.pyplot as plt\n",
    "import numpy as np\n",
    "from scipy.optimize import curve_fit\n",
    "import getters\n",
    "from tabulate import tabulate"
   ]
  },
  {
   "cell_type": "code",
   "execution_count": 2,
   "metadata": {},
   "outputs": [
    {
     "name": "stdout",
     "output_type": "stream",
     "text": [
      "Keys to read: ['Temp1']\n"
     ]
    },
    {
     "name": "stderr",
     "output_type": "stream",
     "text": [
      "Reading temperature key: Temp: 100%|██████████| 1/1 [00:07<00:00,  7.21s/it]\n"
     ]
    },
    {
     "name": "stdout",
     "output_type": "stream",
     "text": [
      "Keys to read: ['10P1', '11P1', '12P1', '13P1', '14P1', '15P1', '16P1', '17P1', '18P1', '19P1', '1P1', '20P1', '21P1', '22P1', '23P1', '2P1', '3P1', '4P1', '5P1', '6P1', '7P1', '8P1', '9P1']\n"
     ]
    },
    {
     "name": "stderr",
     "output_type": "stream",
     "text": [
      "Reading peaks key: P: 100%|██████████| 23/23 [03:07<00:00,  8.14s/it]\n"
     ]
    },
    {
     "name": "stdout",
     "output_type": "stream",
     "text": [
      "Keys to read: ['10S1', '11S1', '12S1', '13S1', '14S1', '15S1', '16S1', '17S1', '18S1', '19S1', '1S1', '20S1', '21S1', '22S1', '23S1', '2S1', '3S1', '4S1', '5S1', '6S1', '7S1', '8S1', '9S1']\n"
     ]
    },
    {
     "name": "stderr",
     "output_type": "stream",
     "text": [
      "Reading peaks key: S: 100%|██████████| 23/23 [02:39<00:00,  6.92s/it]\n"
     ]
    }
   ],
   "source": [
    "path_to_split = \"/eos/user/j/jcapotor/FBGana/camara_climatica/FebruaryRuns/\"\n",
    "\n",
    "def line(x, A, B):\n",
    "    return A + B*x\n",
    "\n",
    "def get_residuals(data, col, t0):\n",
    "    popt, pcov = curve_fit(line, xdata=data[\"Timestamp\"]-t0, ydata=data[col])\n",
    "    res = data[col] - line(data[\"Timestamp\"]-t0, popt[0], popt[1])\n",
    "    mean_res = np.mean(res)\n",
    "    rms_res = np.std(res)\n",
    "    return mean_res, rms_res, popt\n",
    "\n",
    "plateaus = {\n",
    "    \"20230221\":{\"273_down\":[10000,12300], \"253_down\":[22000,24300], \"233_down\":[34000,36300], \"213_down\":[45000,52000], \"233_up\":[61000,64000], \"253_up\":[73000,76000], \"273_up\":[85000,88000]},\n",
    "    \"20230222\":{\"273_down\":[14000,19800], \"253_down\":[34000,39000], \"233_down\":[53000,58200], \"213_down\":[68000,77300]},\n",
    "    \"20230223\":{\"253_down\":[12500,24000], \"213_down\":[34000,48000]},\n",
    "    \"20230224\":{\"293_down\":[11900,15900], \"283_down\":[27750,31750], \"273_down\":[43650,47650], \"263_down\":[59550,63550], \"253_down\":[75450,79450], \"243_down\":[91350,95350],\n",
    "    \"233_down\":[106450,110450], \"223_down\":[122350,126350], \"213_down\":[138250,142250], \"223_up\":[154150,158150], \"233_up\":[170050,174050], \"243_up\":[186000,190000],\n",
    "    \"253_up\":[201900,205900], \"263_up\":[217800,221800], \"273_up\":[233700,237700]}\n",
    "}\n",
    "\n",
    "date = \"20230221\"\n",
    "temp = getters.get_raw_data(path_to_split+date+\"/\", filetype=\"temperature\", pol=\"Temp\")\n",
    "peaks_p = getters.get_raw_data(path_to_split+date+\"/\", filetype=\"peaks\", pol=\"P\")\n",
    "peaks_s = getters.get_raw_data(path_to_split+date+\"/\", filetype=\"peaks\", pol=\"S\")\n",
    "t0 = temp[\"Timestamp\"][0]"
   ]
  },
  {
   "cell_type": "code",
   "execution_count": 5,
   "metadata": {},
   "outputs": [],
   "source": [
    "import sys\n",
    "sys.stdout = open('/dev/stdout', 'w')"
   ]
  },
  {
   "cell_type": "code",
   "execution_count": 6,
   "metadata": {},
   "outputs": [],
   "source": [
    "for plateau in plateaus[date].keys():\n",
    "    print(plateau)\n",
    "    temp_table = [\n",
    "        [\"T0 (K)\"],\n",
    "        [\"Tf (K)\"],\n",
    "        [\"dT (K)\"],\n",
    "        [\"t0 (s)\"],\n",
    "        [\"tf (s)\"],\n",
    "        [\"dt (s)\"],\n",
    "        [\"Slope (mK/s)\"],\n",
    "        [\"Res. (mK)\"]\n",
    "    ]\n",
    "    temp_header = [\"Names\"]\n",
    "    sens = \"Wav1-1\"\n",
    "    temp_plateau = temp.loc[(temp[\"Timestamp\"]-t0 > plateaus[date][plateau][0]) & (temp[\"Timestamp\"]-t0 < plateaus[date][plateau][1])].reset_index(drop=True)\n",
    "    for rtd in temp_plateau.columns:\n",
    "        if rtd[0] != \"T\" or rtd == \"Timestamp\" or rtd[-1]==\"r\" or rtd==\"Time\":\n",
    "            continue\n",
    "        print(rtd)\n",
    "        T0 = np.min(temp_plateau[rtd])\n",
    "        Tf = np.max(temp_plateau[rtd])\n",
    "        tini = temp_plateau[\"Timestamp\"].iloc[0] - t0\n",
    "        tfin = temp_plateau[\"Timestamp\"].iloc[-1] - t0\n",
    "\n",
    "        deltaT = (Tf-T0)\n",
    "        deltat = (tfin-tini)\n",
    "        temp_table[0].append(T0)\n",
    "        temp_table[1].append(Tf)\n",
    "        temp_table[2].append(np.round(deltaT, 3))\n",
    "        temp_table[3].append(tini)\n",
    "        temp_table[4].append(tfin)\n",
    "        temp_table[5].append(np.round(deltat, 0))\n",
    "\n",
    "        mean_resT, rms_resT, poptT = get_residuals(temp_plateau, rtd, t0)\n",
    "        temp_table[6].append(np.round(poptT[1]*1e3, 3))\n",
    "        temp_table[7].append(np.round(rms_resT*1e3, 1))\n",
    "        temp_header.append(rtd)\n",
    "    print(tabulate(temp_table, temp_header, \"grid\"))\n",
    "    wl_table = [\n",
    "        [\"WL0 - P (pm)\"],\n",
    "        [\"WL0 - S (pm)\"],\n",
    "        [\"WLf - P (pm)\"],\n",
    "        [\"WLf - S (pm)\"],\n",
    "        [\"dWL - P (pm)\"],\n",
    "        [\"dWL - S (pm)\"],\n",
    "        [\"Slope - P (fm/s)\"],\n",
    "        [\"Slope - S (fm/s)\"],\n",
    "        [\"Res. - P (fm)\"],\n",
    "        [\"Res. - S (fm)\"],\n",
    "        [\"Sensitivity. - S (pm/K)\"],\n",
    "        [\"Sensitivity. - S (pm/K)\"]\n",
    "    ]\n",
    "    wl_header = [\"Names\"]\n",
    "    pp_plateau = peaks_p.loc[(peaks_p[\"Timestamp\"]-t0 > plateaus[date][plateau][0]) & (peaks_p[\"Timestamp\"]-t0 < plateaus[date][plateau][1])]\n",
    "    ps_plateau = peaks_s.loc[(peaks_s[\"Timestamp\"]-t0 > plateaus[date][plateau][0]) & (peaks_s[\"Timestamp\"]-t0 < plateaus[date][plateau][1])]\n",
    "    for sens in pp_plateau.columns:\n",
    "        if sens[0] != \"W\" or sens[-1]==\"r\":\n",
    "            continue\n",
    "        pp0 = pp_plateau[sens].iloc[0]\n",
    "        ppf = pp_plateau[sens].iloc[-1]\n",
    "        ps0 = ps_plateau[sens].iloc[0]\n",
    "        psf = ps_plateau[sens].iloc[-1]\n",
    "        deltapp = (pp0-ppf)\n",
    "        deltaps = (ps0-psf)\n",
    "        wl_table[0].append(pp0*1e12 - 5*np.round(pp0*1e9/5)*1e3)\n",
    "        wl_table[1].append(ps0*1e12 - 5*np.round(ps0*1e9/5)*1e3)\n",
    "        wl_table[2].append(ppf*1e12 - 5*np.round(ppf*1e9/5)*1e3)\n",
    "        wl_table[3].append(psf*1e12 - 5*np.round(psf*1e9/5)*1e3)\n",
    "        wl_table[4].append(deltapp*1e12)\n",
    "        wl_table[5].append(deltaps*1e12)\n",
    "        mean_respp, rms_respp, poptpp = get_residuals(pp_plateau, sens, t0)\n",
    "        mean_resps, rms_resps, poptps = get_residuals(ps_plateau, sens, t0)\n",
    "        wl_table[6].append(poptpp[1]*1e15)\n",
    "        wl_table[7].append(poptps[1]*1e15)\n",
    "        wl_table[8].append(rms_respp*1e15)\n",
    "        wl_table[9].append(rms_resps*1e15)\n",
    "        sensitivitypp = []\n",
    "        sensitivityps = []\n",
    "        for value in temp_table[6]:\n",
    "            if value == \"Slope (mK/s)\":\n",
    "                continue\n",
    "            value = float(value)\n",
    "            sensitivitypp.append(poptpp[1]*1e12/value*1e3)\n",
    "            sensitivityps.append(poptps[1]*1e12/value*1e3)\n",
    "        wl_table[10].append(np.mean(sensitivitypp))\n",
    "        wl_table[11].append(np.mean(sensitivityps))\n",
    "        wl_header.append(sens+\" @ \"+str(5*np.round(pp0*1e9/5, 0)))\n",
    "    print(tabulate(wl_table, wl_header, \"grid\"))\n"
   ]
  },
  {
   "cell_type": "code",
   "execution_count": 7,
   "metadata": {},
   "outputs": [
    {
     "name": "stderr",
     "output_type": "stream",
     "text": [
      "Reading peaks key: Av: 100%|██████████| 23/23 [02:42<00:00,  7.05s/it]\n"
     ]
    }
   ],
   "source": [
    "peaks_p = getters.get_raw_data(path_to_split+date+\"/\", filetype=\"peaks\", pol=\"Av\")"
   ]
  },
  {
   "cell_type": "code",
   "execution_count": 9,
   "metadata": {},
   "outputs": [
    {
     "ename": "IndexError",
     "evalue": "list index out of range",
     "output_type": "error",
     "traceback": [
      "\u001b[0;31m---------------------------------------------------------------------------\u001b[0m",
      "\u001b[0;31mIndexError\u001b[0m                                Traceback (most recent call last)",
      "\u001b[0;32m<ipython-input-9-a55f4d829c09>\u001b[0m in \u001b[0;36m<module>\u001b[0;34m\u001b[0m\n\u001b[1;32m     52\u001b[0m         \u001b[0mwl_table\u001b[0m\u001b[0;34m[\u001b[0m\u001b[0;36m4\u001b[0m\u001b[0;34m]\u001b[0m\u001b[0;34m.\u001b[0m\u001b[0mappend\u001b[0m\u001b[0;34m(\u001b[0m\u001b[0mrms_respp\u001b[0m\u001b[0;34m*\u001b[0m\u001b[0;36m1e15\u001b[0m\u001b[0;34m)\u001b[0m\u001b[0;34m\u001b[0m\u001b[0;34m\u001b[0m\u001b[0m\n\u001b[1;32m     53\u001b[0m         \u001b[0msensitivitypp\u001b[0m \u001b[0;34m=\u001b[0m \u001b[0;34m[\u001b[0m\u001b[0;34m]\u001b[0m\u001b[0;34m\u001b[0m\u001b[0;34m\u001b[0m\u001b[0m\n\u001b[0;32m---> 54\u001b[0;31m         \u001b[0;32mfor\u001b[0m \u001b[0mvalue\u001b[0m \u001b[0;32min\u001b[0m \u001b[0mtemp_table\u001b[0m\u001b[0;34m[\u001b[0m\u001b[0;36m6\u001b[0m\u001b[0;34m]\u001b[0m\u001b[0;34m:\u001b[0m\u001b[0;34m\u001b[0m\u001b[0;34m\u001b[0m\u001b[0m\n\u001b[0m\u001b[1;32m     55\u001b[0m             \u001b[0;32mif\u001b[0m \u001b[0mvalue\u001b[0m \u001b[0;34m==\u001b[0m \u001b[0;34m\"Slope (mK/s)\"\u001b[0m\u001b[0;34m:\u001b[0m\u001b[0;34m\u001b[0m\u001b[0;34m\u001b[0m\u001b[0m\n\u001b[1;32m     56\u001b[0m                 \u001b[0;32mcontinue\u001b[0m\u001b[0;34m\u001b[0m\u001b[0;34m\u001b[0m\u001b[0m\n",
      "\u001b[0;31mIndexError\u001b[0m: list index out of range"
     ]
    }
   ],
   "source": [
    "for plateau in plateaus[date].keys():\n",
    "    print(plateau)\n",
    "    temp_table = [\n",
    "        [\"dT (K)\"],\n",
    "        [\"dt (s)\"],\n",
    "        [\"Mean (K)\"],\n",
    "        [\"Res. (mK)\"]\n",
    "    ]\n",
    "    temp_header = [\"Names\"]\n",
    "    sens = \"Wav1-1\"\n",
    "    temp_plateau = temp.loc[(temp[\"Timestamp\"]-t0 > plateaus[date][plateau][0]) & (temp[\"Timestamp\"]-t0 < plateaus[date][plateau][1])].reset_index(drop=True)\n",
    "    for rtd in temp_plateau.columns:\n",
    "        if rtd[0] != \"T\" or rtd == \"Timestamp\" or rtd[-1]==\"r\" or rtd==\"Time\":\n",
    "            continue\n",
    "        print(rtd)\n",
    "        T0 = np.min(temp_plateau[rtd])\n",
    "        Tf = np.max(temp_plateau[rtd])\n",
    "        tini = temp_plateau[\"Timestamp\"].iloc[0] - t0\n",
    "        tfin = temp_plateau[\"Timestamp\"].iloc[-1] - t0\n",
    "\n",
    "        deltaT = (Tf-T0)\n",
    "        deltat = (tfin-tini)\n",
    "        temp_table[0].append(np.round(deltaT*1e3, 1))\n",
    "        temp_table[1].append(np.round(deltat, 0))\n",
    "\n",
    "        mean_resT, rms_resT, poptT = get_residuals(temp_plateau, rtd, t0)\n",
    "        temp_table[2].append(np.round(np.mean(temp_plateau[rtd])*1e3, 1))\n",
    "        temp_table[3].append(np.round(np.std(temp_plateau[rtd])*1e3, 1))\n",
    "        temp_header.append(rtd)\n",
    "    print(tabulate(temp_table, temp_header, \"grid\"))\n",
    "    wl_table = [\n",
    "        [\"WL0 - Av (pm)\"],\n",
    "        [\"WLf - Av (pm)\"],\n",
    "        [\"dWL - Av (pm)\"],\n",
    "        [\"Slope - Av (fm/s)\"],\n",
    "        [\"Res. - Av (fm)\"],\n",
    "        [\"Sensitivity. - Av (pm/K)\"],\n",
    "    ]\n",
    "    wl_header = [\"Names\"]\n",
    "    pp_plateau = peaks_p.loc[(peaks_p[\"Timestamp\"]-t0 > plateaus[date][plateau][0]) & (peaks_p[\"Timestamp\"]-t0 < plateaus[date][plateau][1])]\n",
    "    for sens in pp_plateau.columns:\n",
    "        if sens[0] != \"W\" or sens[-1]==\"r\":\n",
    "            continue\n",
    "        pp0 = pp_plateau[sens].iloc[0]\n",
    "        ppf = pp_plateau[sens].iloc[-1]\n",
    "        deltapp = (pp0-ppf)\n",
    "        wl_table[0].append(pp0*1e12 - 5*np.round(pp0*1e9/5)*1e3)\n",
    "        wl_table[1].append(ppf*1e12 - 5*np.round(ppf*1e9/5)*1e3)\n",
    "        wl_table[2].append(deltapp*1e12)\n",
    "        mean_respp, rms_respp, poptpp = get_residuals(pp_plateau, sens, t0)\n",
    "        wl_table[3].append(poptpp[1]*1e15)\n",
    "        wl_table[4].append(rms_respp*1e15)\n",
    "        sensitivitypp = []\n",
    "        for value in temp_table[6]:\n",
    "            if value == \"Slope (mK/s)\":\n",
    "                continue\n",
    "            value = float(value)\n",
    "            sensitivitypp.append(poptpp[1]*1e12/value*1e3)\n",
    "        wl_table[5].append(np.mean(sensitivitypp))\n",
    "        wl_header.append(sens+\" @ \"+str(5*np.round(pp0*1e9/5, 0)))\n",
    "    print(tabulate(wl_table, wl_header, \"grid\"))"
   ]
  },
  {
   "cell_type": "code",
   "execution_count": null,
   "metadata": {},
   "outputs": [],
   "source": []
  }
 ],
 "metadata": {
  "interpreter": {
   "hash": "0670aacaf5416ed8947019f9606138468b9d61d218d571df06a0d7d32be65512"
  },
  "kernelspec": {
   "display_name": "Python 3",
   "language": "python",
   "name": "python3"
  },
  "language_info": {
   "codemirror_mode": {
    "name": "ipython",
    "version": 3
   },
   "file_extension": ".py",
   "mimetype": "text/x-python",
   "name": "python",
   "nbconvert_exporter": "python",
   "pygments_lexer": "ipython3",
   "version": "3.6.8"
  }
 },
 "nbformat": 4,
 "nbformat_minor": 2
}
