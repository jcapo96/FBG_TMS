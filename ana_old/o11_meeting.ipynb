{
 "cells": [
  {
   "cell_type": "code",
   "execution_count": 1,
   "metadata": {},
   "outputs": [],
   "source": [
    "import pandas as pd\n",
    "import matplotlib.pyplot as plt\n",
    "import numpy as np\n",
    "from scipy.optimize import curve_fit\n",
    "import sys\n",
    "sys.path.insert(1, '/afs/cern.ch/user/j/jcapotor/FBGana/ana_tools')\n",
    "import getters\n",
    "plt.style.use(\"./presentation.mplstyle\")\n",
    "import json"
   ]
  },
  {
   "cell_type": "code",
   "execution_count": 2,
   "metadata": {},
   "outputs": [],
   "source": [
    "plateaus = json.load(open(\"plateaus.json\"))\n",
    "path_to_split = \"/eos/user/j/jcapotor/FBGana/camara_climatica/FebruaryRuns/\""
   ]
  },
  {
   "cell_type": "code",
   "execution_count": 17,
   "metadata": {},
   "outputs": [
    {
     "name": "stdout",
     "output_type": "stream",
     "text": [
      "Keys to read: ['10Av1', '11Av1', '12Av1', '13Av1', '14Av1', '15Av1', '16Av1', '17Av1', '18Av1', '19Av1', '1Av1', '20Av1', '21Av1', '22Av1', '23Av1', '2Av1', '3Av1', '4Av1', '5Av1', '6Av1', '7Av1', '8Av1', '9Av1']\n"
     ]
    },
    {
     "name": "stderr",
     "output_type": "stream",
     "text": [
      "Reading peaks key: Av: 100%|██████████| 23/23 [01:13<00:00,  3.19s/it]\n"
     ]
    }
   ],
   "source": [
    "def get_offsets(date, filetype, pol):\n",
    "    path_to_data = path_to_split + date + \"/\"\n",
    "    data = getters.get_raw_data(path_to_split=path_to_data, filetype=filetype, pol=pol)\n",
    "    timestamp = data[\"Timestamp\"]\n",
    "    offsets = {}\n",
    "    for ref in data.columns:\n",
    "        if \"Timestamp\" in ref:\n",
    "            continue\n",
    "        doff = data.sub(data[ref], axis=0)\n",
    "        doff[\"Timestamp\"] = timestamp\n",
    "        offsets[ref] = doff\n",
    "    return offsets\n",
    "\n",
    "doff =get_offsets(\"20230221\", \"peaks\", \"Av\")"
   ]
  },
  {
   "cell_type": "code",
   "execution_count": 19,
   "metadata": {},
   "outputs": [
    {
     "name": "stdout",
     "output_type": "stream",
     "text": [
      "0           5.012865e-09\n",
      "1           5.012896e-09\n",
      "2           5.012871e-09\n",
      "3           5.012851e-09\n",
      "4           5.012879e-09\n",
      "                ...     \n",
      "11361995    5.012889e-09\n",
      "11361996    5.012904e-09\n",
      "11361997    5.012855e-09\n",
      "11361998    5.012883e-09\n",
      "11361999    5.012859e-09\n",
      "Name: Wav1-2, Length: 11362000, dtype: float64\n"
     ]
    }
   ],
   "source": [
    "print(doff[\"Wav1-1\"][\"Wav1-2\"])"
   ]
  },
  {
   "cell_type": "code",
   "execution_count": 37,
   "metadata": {},
   "outputs": [
    {
     "name": "stdout",
     "output_type": "stream",
     "text": [
      "Keys to read: ['Temp1']\n"
     ]
    },
    {
     "name": "stderr",
     "output_type": "stream",
     "text": [
      "Reading temperature key: Temp: 100%|██████████| 1/1 [00:00<00:00, 10.37it/s]\n"
     ]
    },
    {
     "name": "stdout",
     "output_type": "stream",
     "text": [
      "Keys to read: ['10Av1', '11Av1', '12Av1', '13Av1', '14Av1', '15Av1', '16Av1', '17Av1', '18Av1', '19Av1', '1Av1', '20Av1', '21Av1', '22Av1', '23Av1', '2Av1', '3Av1', '4Av1', '5Av1', '6Av1', '7Av1', '8Av1', '9Av1']\n"
     ]
    },
    {
     "name": "stderr",
     "output_type": "stream",
     "text": [
      "Reading peaks key: Av: 100%|██████████| 23/23 [00:47<00:00,  2.07s/it]\n"
     ]
    }
   ],
   "source": [
    "match_data1 = getters.get_processed_data(path_to_data1)\n",
    "temp1 = getters.get_raw_data(path_to_data1, filetype=\"temperature\", pol=\"Temp\")\n",
    "peaks1 = getters.get_raw_data(path_to_data1, filetype=\"peaks\", pol=\"Av\")"
   ]
  },
  {
   "cell_type": "code",
   "execution_count": null,
   "metadata": {},
   "outputs": [],
   "source": []
  }
 ],
 "metadata": {
  "kernelspec": {
   "display_name": "Python 3",
   "language": "python",
   "name": "python3"
  },
  "language_info": {
   "codemirror_mode": {
    "name": "ipython",
    "version": 3
   },
   "file_extension": ".py",
   "mimetype": "text/x-python",
   "name": "python",
   "nbconvert_exporter": "python",
   "pygments_lexer": "ipython3",
   "version": "3.6.8"
  },
  "vscode": {
   "interpreter": {
    "hash": "0670aacaf5416ed8947019f9606138468b9d61d218d571df06a0d7d32be65512"
   }
  }
 },
 "nbformat": 4,
 "nbformat_minor": 2
}
