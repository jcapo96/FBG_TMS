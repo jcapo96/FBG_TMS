{
 "cells": [
  {
   "cell_type": "code",
   "execution_count": 4,
   "metadata": {},
   "outputs": [],
   "source": [
    "import numpy as np\n",
    "import sys\n",
    "import pandas as pd\n",
    "\n",
    "sys.path.insert(1, \"/afs/cern.ch/user/d/dunetms/FBGana/ana_tools\")\n",
    "import getters\n",
    "import matplotlib.pyplot as plt\n",
    "plt.style.use(\"./presentation.mplstyle\")\n",
    "\n",
    "path_to_data = \"/eos/user/j/jcapotor/FBGana/camara_climatica/FebruaryRuns/\"\n",
    "dates= [\"20230221\",\"20230222\",\"20230223\",\"20230224\"]\n",
    "plateaus = {\n",
    "    \"20230221\":{\"273_down\":[10000,12300], \"253_down\":[22000,24300], \"233_down\":[34000,36300], \"213_down\":[45000,52000], \"233_up\":[61000,64000], \"253_up\":[73000,76000], \"273_up\":[85000,88000]},\n",
    "    \"20230222\":{\"273_down\":[14000,19800], \"253_down\":[34000,39000], \"233_down\":[53000,58200], \"213_down\":[68000,77300]},\n",
    "    \"20230223\":{\"253_down\":[12500,24000], \"213_down\":[34000,48000]},\n",
    "    \"20230224\":{\"293_down\":[11900,15900], \"283_down\":[27750,31750], \"273_down\":[43650,47650], \"263_down\":[59550,63550], \"253_down\":[75450,79450], \"243_down\":[91350,95350],\n",
    "    \"233_down\":[106450,110450], \"223_down\":[122350,126350], \"213_down\":[138250,142250], \"223_up\":[154150,158150], \"233_up\":[170050,174050], \"243_up\":[186000,190000],\n",
    "    \"253_up\":[201900,205900], \"263_up\":[217800,221800], \"273_up\":[233700,237700]} }"
   ]
  },
  {
   "cell_type": "markdown",
   "metadata": {},
   "source": [
    "# HUMEDAD"
   ]
  },
  {
   "cell_type": "code",
   "execution_count": 6,
   "metadata": {},
   "outputs": [
    {
     "name": "stdout",
     "output_type": "stream",
     "text": [
      "Keys to read: ['Hum1']\n"
     ]
    },
    {
     "name": "stderr",
     "output_type": "stream",
     "text": [
      "\n",
      "Reading humidity key: Hum:   0%|          | 0/1 [00:00<?, ?it/s]\u001b[A\n",
      "Reading humidity key: Hum: 100%|██████████| 1/1 [00:01<00:00,  1.27s/it]\u001b[A\n"
     ]
    },
    {
     "name": "stdout",
     "output_type": "stream",
     "text": [
      "Keys to read: ['Temp1']\n"
     ]
    },
    {
     "name": "stderr",
     "output_type": "stream",
     "text": [
      "\n",
      "Reading temperature key: Temp:   0%|          | 0/1 [00:00<?, ?it/s]\u001b[A\n",
      "Reading temperature key: Temp: 100%|██████████| 1/1 [00:00<00:00,  7.43it/s]\u001b[A\n"
     ]
    },
    {
     "ename": "TypeError",
     "evalue": "tuple indices must be integers or slices, not str",
     "output_type": "error",
     "traceback": [
      "\u001b[0;31m---------------------------------------------------------------------------\u001b[0m",
      "\u001b[0;31mTypeError\u001b[0m                                 Traceback (most recent call last)",
      "\u001b[0;32m<ipython-input-6-af2f7d6cbf59>\u001b[0m in \u001b[0;36m<module>\u001b[0;34m\u001b[0m\n\u001b[1;32m      2\u001b[0m \u001b[0mtemp\u001b[0m\u001b[0;34m=\u001b[0m \u001b[0mgetters\u001b[0m\u001b[0;34m.\u001b[0m\u001b[0mget_raw_data\u001b[0m\u001b[0;34m(\u001b[0m\u001b[0mpath_to_data\u001b[0m\u001b[0;34m+\u001b[0m\u001b[0mdates\u001b[0m\u001b[0;34m[\u001b[0m\u001b[0;36m0\u001b[0m\u001b[0;34m]\u001b[0m\u001b[0;34m+\u001b[0m\u001b[0;34m\"/\"\u001b[0m\u001b[0;34m,\u001b[0m \u001b[0mfiletype\u001b[0m\u001b[0;34m=\u001b[0m\u001b[0;34m\"temperature\"\u001b[0m\u001b[0;34m,\u001b[0m \u001b[0mpol\u001b[0m\u001b[0;34m=\u001b[0m\u001b[0;34m\"Temp\"\u001b[0m\u001b[0;34m)\u001b[0m\u001b[0;34m\u001b[0m\u001b[0;34m\u001b[0m\u001b[0m\n\u001b[1;32m      3\u001b[0m \u001b[0;34m\u001b[0m\u001b[0m\n\u001b[0;32m----> 4\u001b[0;31m \u001b[0mt0\u001b[0m\u001b[0;34m=\u001b[0m\u001b[0mhum\u001b[0m\u001b[0;34m[\u001b[0m\u001b[0;34m\"Timestamp\"\u001b[0m\u001b[0;34m]\u001b[0m\u001b[0;34m[\u001b[0m\u001b[0;36m0\u001b[0m\u001b[0;34m]\u001b[0m                        \u001b[0;31m#Para poner a cero el tiempo\u001b[0m\u001b[0;34m\u001b[0m\u001b[0;34m\u001b[0m\u001b[0m\n\u001b[0m\u001b[1;32m      5\u001b[0m \u001b[0mfig_h\u001b[0m\u001b[0;34m,\u001b[0m\u001b[0maxH\u001b[0m \u001b[0;34m=\u001b[0m \u001b[0mplt\u001b[0m\u001b[0;34m.\u001b[0m\u001b[0msubplots\u001b[0m\u001b[0;34m(\u001b[0m\u001b[0mfigsize\u001b[0m\u001b[0;34m=\u001b[0m\u001b[0;34m(\u001b[0m\u001b[0;36m12\u001b[0m\u001b[0;34m,\u001b[0m\u001b[0;36m10\u001b[0m\u001b[0;34m)\u001b[0m\u001b[0;34m)\u001b[0m\u001b[0;34m\u001b[0m\u001b[0;34m\u001b[0m\u001b[0m\n\u001b[1;32m      6\u001b[0m \u001b[0maxT\u001b[0m\u001b[0;34m=\u001b[0m\u001b[0maxH\u001b[0m\u001b[0;34m.\u001b[0m\u001b[0mtwinx\u001b[0m\u001b[0;34m(\u001b[0m\u001b[0;34m)\u001b[0m                               \u001b[0;31m#Para duplicar el eje.\u001b[0m\u001b[0;34m\u001b[0m\u001b[0;34m\u001b[0m\u001b[0m\n",
      "\u001b[0;31mTypeError\u001b[0m: tuple indices must be integers or slices, not str"
     ]
    }
   ],
   "source": [
    "hum= getters.get_raw_data(path_to_data+dates[0]+\"/\", filetype=\"humidity\", pol=\"Hum\")     #pd.read_csv(path_to_split+dates[0]+\"/\"+\"humidity.csv\",header=0) \n",
    "temp= getters.get_raw_data(path_to_data+dates[0]+\"/\", filetype=\"temperature\", pol=\"Temp\")\n",
    "\n",
    "t0=hum[\"Timestamp\"][0]                        #Para poner a cero el tiempo\n",
    "fig_h,axH = plt.subplots(figsize=(12,10))\n",
    "axT=axH.twinx()                               #Para duplicar el eje.                \n",
    "\n",
    "#Temperatura-CámaraC------\n",
    "axT.plot(hum[\"Timestamp\"]-t0,hum[\"T\"]+273.15,color=\"red\",alpha=0.5,label=\"Temp Climatic Chamber\") \n",
    "axT.plot(temp[\"Timestamp\"]-t0,temp[\"T1\"],color=\"darkred\",alpha=0.6,label=\"Temp RTD1\")\n",
    "fig_h.suptitle(dates[0])\n",
    "axT.set_ylabel(\"Temperature (K)\",color=\"darkred\")\n",
    "axT.tick_params(axis=\"y\", labelcolor=\"darkred\")\n",
    "\n",
    "#Humedad-----------\n",
    "axH.plot(hum[\"Timestamp\"]-t0,hum[\"RH\"],label=\"Humidity\") \n",
    "axH.set_ylabel(\"Humidity (%)\")\n",
    "axH.set_xlabel(\"Time (s)\")\n",
    "\n",
    "#Legend: \n",
    "lines, labels = axH.get_legend_handles_labels()\n",
    "lines2, labels2 = axT.get_legend_handles_labels()\n",
    "axH.legend(lines + lines2, labels + labels2, loc=0)\n",
    "axH.grid(False)"
   ]
  },
  {
   "cell_type": "markdown",
   "metadata": {},
   "source": [
    "# Temperatura (valores medios solo una wav)"
   ]
  },
  {
   "cell_type": "code",
   "execution_count": 4,
   "metadata": {},
   "outputs": [
    {
     "name": "stdout",
     "output_type": "stream",
     "text": [
      "Keys to read: ['10Av1', '11Av1', '12Av1', '13Av1', '14Av1', '15Av1', '16Av1', '17Av1', '18Av1', '19Av1', '1Av1', '20Av1', '21Av1', '22Av1', '23Av1', '2Av1', '3Av1', '4Av1', '5Av1', '6Av1', '7Av1', '8Av1', '9Av1']\n"
     ]
    },
    {
     "name": "stderr",
     "output_type": "stream",
     "text": [
      "Reading peaks key: Av: 100%|██████████| 23/23 [08:27<00:00, 22.06s/it]\n"
     ]
    },
    {
     "name": "stdout",
     "output_type": "stream",
     "text": [
      "Keys to read: ['Temp1']\n"
     ]
    },
    {
     "name": "stderr",
     "output_type": "stream",
     "text": [
      "Reading temperature key: Temp: 100%|██████████| 1/1 [00:00<00:00,  1.68it/s]\n"
     ]
    },
    {
     "name": "stdout",
     "output_type": "stream",
     "text": [
      "Keys to read: ['10Av2', '1Av1', '1Av2', '1Av3', '2Av1', '2Av2', '2Av3', '3Av1', '3Av2', '3Av3', '4Av1', '4Av2', '4Av3', '5Av1', '5Av2', '5Av3', '6Av1', '6Av2', '6Av3', '7Av1', '7Av2', '8Av2', '9Av2']\n"
     ]
    },
    {
     "name": "stderr",
     "output_type": "stream",
     "text": [
      "Reading peaks key: Av: 100%|██████████| 23/23 [13:42<00:00, 35.74s/it]\n"
     ]
    },
    {
     "name": "stdout",
     "output_type": "stream",
     "text": [
      "Keys to read: ['Temp1']\n"
     ]
    },
    {
     "name": "stderr",
     "output_type": "stream",
     "text": [
      "Reading temperature key: Temp: 100%|██████████| 1/1 [00:00<00:00,  9.12it/s]\n"
     ]
    },
    {
     "name": "stdout",
     "output_type": "stream",
     "text": [
      "Keys to read: ['10Av1', '11Av1', '12Av1', '13Av1', '14Av1', '1Av1', '2Av1', '3Av1', '4Av1', '5Av1', '6Av1', '7Av1', '8Av1', '9Av1']\n"
     ]
    },
    {
     "name": "stderr",
     "output_type": "stream",
     "text": [
      "Reading peaks key: Av: 100%|██████████| 14/14 [00:21<00:00,  1.53s/it]\n"
     ]
    },
    {
     "name": "stdout",
     "output_type": "stream",
     "text": [
      "Keys to read: ['Temp1']\n"
     ]
    },
    {
     "name": "stderr",
     "output_type": "stream",
     "text": [
      "Reading temperature key: Temp: 100%|██████████| 1/1 [00:00<00:00, 20.46it/s]\n"
     ]
    },
    {
     "name": "stdout",
     "output_type": "stream",
     "text": [
      "Keys to read: ['10Av2', '10Av3', '10Av4', '11Av2', '11Av3', '11Av4', '12Av2', '12Av3', '12Av4', '13Av2', '13Av3', '13Av4', '14Av2', '14Av3', '14Av4', '15Av2', '15Av3', '15Av4', '16Av2', '16Av3', '16Av4', '17Av2', '17Av3', '17Av4', '18Av2', '18Av3', '18Av4', '19Av2', '19Av3', '19Av4', '1Av1', '1Av2', '1Av3', '1Av4', '20Av2', '20Av3', '20Av4', '21Av2', '21Av4', '2Av2', '2Av3', '2Av4', '3Av2', '3Av3', '3Av4', '4Av2', '4Av3', '4Av4', '5Av2', '5Av3', '5Av4', '6Av2', '6Av3', '6Av4', '7Av2', '7Av3', '7Av4', '8Av2', '8Av3', '8Av4', '9Av2', '9Av3', '9Av4']\n"
     ]
    },
    {
     "name": "stderr",
     "output_type": "stream",
     "text": [
      "Reading peaks key: Av: 100%|██████████| 63/63 [04:52<00:00,  4.64s/it]\n"
     ]
    },
    {
     "name": "stdout",
     "output_type": "stream",
     "text": [
      "Keys to read: ['Temp1']\n"
     ]
    },
    {
     "name": "stderr",
     "output_type": "stream",
     "text": [
      "Reading temperature key: Temp: 100%|██████████| 1/1 [00:00<00:00,  8.08it/s]\n"
     ]
    }
   ],
   "source": [
    "results_mean=[[],[]]\n",
    "results_std=[[],[]]\n",
    "\n",
    "\n",
    "for date in dates:\n",
    "    peaks=getters.get_raw_data(path_to_data+date+\"/\", filetype=\"peaks\", pol=\"Av\") \n",
    "    temp= getters.get_raw_data(path_to_data+date+\"/\", filetype=\"temperature\", pol=\"Temp\")\n",
    "    for k in plateaus[date]:\n",
    "        ti=plateaus[date][k][0]\n",
    "        tf=plateaus[date][k][1]\n",
    "        p_cut=peaks.loc[(peaks[\"Timestamp\"]-np.min(peaks[\"Timestamp\"])>ti)&(peaks[\"Timestamp\"]-np.min(peaks[\"Timestamp\"])<tf)].reset_index(drop=True)\n",
    "        t_cut=temp.loc[(temp[\"Timestamp\"]-np.min(temp[\"Timestamp\"])>ti)&(temp[\"Timestamp\"]-np.min(temp[\"Timestamp\"])<tf)].reset_index(drop=True)\n",
    "        wl_mean=np.mean(p_cut[\"Wav1-1\"])\n",
    "        t_mean=np.mean(t_cut[\"T1\"])\n",
    "        wl_std=np.std(p_cut[\"Wav1-1\"])\n",
    "        t_std=np.std(t_cut[\"T1\"])\n",
    "        results_mean[0].append(t_mean)\n",
    "        results_mean[1].append(wl_mean)\n",
    "        results_std[0].append(t_std)\n",
    "        results_std[1].append(wl_std)\n",
    "\n",
    "\n",
    "    "
   ]
  },
  {
   "cell_type": "markdown",
   "metadata": {},
   "source": []
  },
  {
   "cell_type": "code",
   "execution_count": 20,
   "metadata": {},
   "outputs": [
    {
     "name": "stdout",
     "output_type": "stream",
     "text": [
      "Down: \n",
      " Valor medio T=233.522  y std=1.220e-02\n",
      "Valor medio WL=112.162  y std=8.506e-13\n",
      "Down: \n",
      " Valor medio T=233.545  y std=1.069e-02\n",
      "Valor medio WL=120.587  y std=1.749e-12\n"
     ]
    },
    {
     "data": {
      "image/png": "[encoded data removed]",
      "text/plain": [
       "<Figure size 864x720 with 1 Axes>"
      ]
     },
     "metadata": {
      "needs_background": "light"
     },
     "output_type": "display_data"
    }
   ],
   "source": [
    "\n",
    "med_std=np.mean(results_std[1])\n",
    "std_std=np.std(results_std[1])\n",
    "fig_1,ax1 = plt.subplots(figsize=(12,10))\n",
    "ax1.hist(np.array(results_std[1])*1e12,label=\"$\\mu$ =%.3f pm\\nstd=%.3f pm\" %(med_std*1e12,std_std*1e12))\n",
    "ax1.set_xlabel(\"STD (pm)\")\n",
    "ax1.set_ylabel(\"Counts\")\n",
    "ax1.set_title(\"Sensor 1: Distribution of STD on plateaus\")\n",
    "ax1.legend()\n",
    "\n",
    "#Forma bruta:\n",
    "#Los valores medios en el plateau 233 down el dia 1 (es el tercer valor por eso el indice 2)\n",
    "print(\"Down: \\n Valor medio T=%.3f  y std=%.3e\" %(results_mean[0][2],results_std[0][2]))\n",
    "print(\"Valor medio WL=%.3f  y std=%.3e\" %(np.array(results_mean[1][2])*1e12-1534*1e3,results_std[1][2]))\n",
    "      \n",
    "#Los valores medios en el plateau 233 up el dia 1 (es el quinto valor por eso el indice 4)\n",
    "print(\"Up: \\n Valor medio T=%.3f  y std=%.3e\" %(results_mean[0][4],results_std[0][4]))\n",
    "print(\"Valor medio WL=%.3f  y std=%.3e\" %(np.array(results_mean[1][4])*1e12-1534*1e3,results_std[1][4]))"
   ]
  },
  {
   "cell_type": "code",
   "execution_count": null,
   "metadata": {},
   "outputs": [],
   "source": []
  },
  {
   "cell_type": "code",
   "execution_count": null,
   "metadata": {
    "scrolled": true
   },
   "outputs": [],
   "source": [
    "\n",
    "    "
   ]
  },
  {
   "cell_type": "code",
   "execution_count": 15,
   "metadata": {},
   "outputs": [
    {
     "data": {
      "text/plain": [
       "Text(0.5, 1.0, 'Wavelength vs Temperature for the sensor 1')"
      ]
     },
     "execution_count": 15,
     "metadata": {},
     "output_type": "execute_result"
    },
    {
     "data": {
      "image/png": "[encoded data removed]",
      "text/plain": [
       "<Figure size 864x720 with 1 Axes>"
      ]
     },
     "metadata": {
      "needs_background": "light"
     },
     "output_type": "display_data"
    }
   ],
   "source": [
    "fig_2,ax2 = plt.subplots(figsize=(12,10))\n",
    "dates= [\"20230221\",\"20230222\",\"20230223\",\"20230224\"]\n",
    "\n",
    "l=[7,11,13,28]\n",
    "count, k= 0, 0\n",
    "\n",
    "for i in l:\n",
    "    ax2.errorbar(results_mean[0][k:i],np.array(results_mean[1][k:i])*1e6,yerr=np.array(results_std[1][k:i])*1e6,xerr=results_std[0][k:i], fmt=\"o\",label=dates[count])\n",
    "    k=i\n",
    "    count+=1\n",
    "    \n",
    "ax2.legend()\n",
    "ax2.set_xlabel(\"Temperature (K)\")\n",
    "ax2.set_ylabel(\"Wavelength ( $\\mu m$)\")\n",
    "ax2.set_title(\"Wavelength vs Temperature for the sensor 1\")\n",
    "\n"
   ]
  },
  {
   "cell_type": "markdown",
   "metadata": {},
   "source": []
  },
  {
   "cell_type": "code",
   "execution_count": 7,
   "metadata": {},
   "outputs": [
    {
     "name": "stdout",
     "output_type": "stream",
     "text": [
      "Keys to read: ['Temp1']\n"
     ]
    },
    {
     "name": "stderr",
     "output_type": "stream",
     "text": [
      "\n",
      "Reading temperature key: Temp: 100%|██████████| 1/1 [00:00<00:00, 15.07it/s]"
     ]
    },
    {
     "name": "stdout",
     "output_type": "stream",
     "text": [
      "{'273_down':             Date      Time         T1         T2     Timestamp\n",
      "0     21/02/2023  12:17:28  273.67197  273.54482  1.676978e+09\n",
      "1     21/02/2023  12:17:28  273.66720  273.53468  1.676978e+09\n",
      "2     21/02/2023  12:17:29  273.66891  273.54625  1.676978e+09\n",
      "3     21/02/2023  12:17:30  273.66785  273.54265  1.676978e+09\n",
      "4     21/02/2023  12:17:30  273.66789  273.53431  1.676978e+09\n",
      "...          ...       ...        ...        ...           ...\n",
      "3770  21/02/2023  12:55:44  273.65862  273.54691  1.676981e+09\n",
      "3771  21/02/2023  12:55:45  273.65910  273.54471  1.676981e+09\n",
      "3772  21/02/2023  12:55:45  273.65833  273.54298  1.676981e+09\n",
      "3773  21/02/2023  12:55:46  273.65925  273.54148  1.676981e+09\n",
      "3774  21/02/2023  12:55:46  273.65887  273.54193  1.676981e+09\n",
      "\n",
      "[3775 rows x 5 columns], '253_down':             Date      Time         T1         T2     Timestamp\n",
      "0     21/02/2023  15:37:28  253.62365  253.48503  1.676990e+09\n",
      "1     21/02/2023  15:37:28  253.62365  253.49191  1.676990e+09\n",
      "2     21/02/2023  15:37:29  253.62327  253.48529  1.676990e+09\n",
      "3     21/02/2023  15:37:29  253.62346  253.50032  1.676990e+09\n",
      "4     21/02/2023  15:37:30  253.62194  253.49383  1.676990e+09\n",
      "...          ...       ...        ...        ...           ...\n",
      "3821  21/02/2023  16:15:44  253.60228  253.49205  1.676993e+09\n",
      "3822  21/02/2023  16:15:45  253.60371  253.48618  1.676993e+09\n",
      "3823  21/02/2023  16:15:45  253.60288  253.48160  1.676993e+09\n",
      "3824  21/02/2023  16:15:46  253.60165  253.48668  1.676993e+09\n",
      "3825  21/02/2023  16:15:46  253.60161  253.48181  1.676993e+09\n",
      "\n",
      "[3826 rows x 5 columns], '233_down':             Date      Time         T1         T2     Timestamp\n",
      "0     21/02/2023  18:57:28  233.53587  233.42099  1.677002e+09\n",
      "1     21/02/2023  18:57:29  233.53799  233.42189  1.677002e+09\n",
      "2     21/02/2023  18:57:29  233.53620  233.41089  1.677002e+09\n",
      "3     21/02/2023  18:57:30  233.53865  233.40858  1.677002e+09\n",
      "4     21/02/2023  18:57:30  233.53669  233.42162  1.677002e+09\n",
      "...          ...       ...        ...        ...           ...\n",
      "3821  21/02/2023  19:35:44  233.50373  233.39920  1.677005e+09\n",
      "3822  21/02/2023  19:35:44  233.50338  233.39219  1.677005e+09\n",
      "3823  21/02/2023  19:35:45  233.50518  233.39359  1.677005e+09\n",
      "3824  21/02/2023  19:35:46  233.50396  233.40032  1.677005e+09\n",
      "3825  21/02/2023  19:35:46  233.50460  233.38905  1.677005e+09\n",
      "\n",
      "[3826 rows x 5 columns], '213_down':              Date      Time         T1         T2     Timestamp\n",
      "0      21/02/2023  22:00:48  213.24497  213.13587  1.677013e+09\n",
      "1      21/02/2023  22:00:48  213.24391  213.13560  1.677013e+09\n",
      "2      21/02/2023  22:00:49  213.24441  213.13553  1.677013e+09\n",
      "3      21/02/2023  22:00:49  213.24525  213.14349  1.677013e+09\n",
      "4      21/02/2023  22:00:50  213.24521  213.13161  1.677013e+09\n",
      "...           ...       ...        ...        ...           ...\n",
      "11629  21/02/2023  23:57:24  213.26419  213.14780  1.677020e+09\n",
      "11630  21/02/2023  23:57:24  213.26219  213.15489  1.677020e+09\n",
      "11631  21/02/2023  23:57:25  213.26259  213.15751  1.677020e+09\n",
      "11632  21/02/2023  23:57:26  213.26457  213.15893  1.677020e+09\n",
      "11633  21/02/2023  23:57:26  213.26382  213.15078  1.677020e+09\n",
      "\n",
      "[11634 rows x 5 columns], '233_up':             Date     Time         T1         T2     Timestamp\n",
      "0     22/02/2023  2:27:28  233.55184  233.45128  1.677029e+09\n",
      "1     22/02/2023  2:27:28  233.54886  233.44497  1.677029e+09\n",
      "2     22/02/2023  2:27:29  233.55105  233.44504  1.677029e+09\n",
      "3     22/02/2023  2:27:30  233.54942  233.44435  1.677029e+09\n",
      "4     22/02/2023  2:27:30  233.55012  233.45402  1.677029e+09\n",
      "...          ...      ...        ...        ...           ...\n",
      "4979  22/02/2023  3:17:24  233.53298  233.43253  1.677032e+09\n",
      "4980  22/02/2023  3:17:25  233.53219  233.42813  1.677032e+09\n",
      "4981  22/02/2023  3:17:25  233.53297  233.42922  1.677032e+09\n",
      "4982  22/02/2023  3:17:26  233.53264  233.43166  1.677032e+09\n",
      "4983  22/02/2023  3:17:26  233.53307  233.43164  1.677032e+09\n",
      "\n",
      "[4984 rows x 5 columns], '253_up':             Date     Time         T1         T2     Timestamp\n",
      "0     22/02/2023  5:47:28  253.54429  253.44642  1.677041e+09\n",
      "1     22/02/2023  5:47:28  253.54339  253.45154  1.677041e+09\n",
      "2     22/02/2023  5:47:29  253.54460  253.44482  1.677041e+09\n",
      "3     22/02/2023  5:47:30  253.54469  253.44952  1.677041e+09\n",
      "4     22/02/2023  5:47:30  253.54246  253.45287  1.677041e+09\n",
      "...          ...      ...        ...        ...           ...\n",
      "4990  22/02/2023  6:37:24  253.59222  253.48773  1.677044e+09\n",
      "4991  22/02/2023  6:37:24  253.59269  253.48858  1.677044e+09\n",
      "4992  22/02/2023  6:37:25  253.59351  253.48541  1.677044e+09\n",
      "4993  22/02/2023  6:37:25  253.59302  253.48307  1.677044e+09\n",
      "4994  22/02/2023  6:37:26  253.59554  253.48476  1.677044e+09\n",
      "\n",
      "[4995 rows x 5 columns], '273_up':             Date     Time         T1         T2     Timestamp\n",
      "0     22/02/2023  9:07:28  273.56445  273.45683  1.677053e+09\n",
      "1     22/02/2023  9:07:29  273.56604  273.46488  1.677053e+09\n",
      "2     22/02/2023  9:07:29  273.56502  273.45350  1.677053e+09\n",
      "3     22/02/2023  9:07:30  273.56483  273.45074  1.677053e+09\n",
      "4     22/02/2023  9:07:30  273.56731  273.45514  1.677053e+09\n",
      "...          ...      ...        ...        ...           ...\n",
      "4986  22/02/2023  9:57:24  273.66107  273.54288  1.677056e+09\n",
      "4987  22/02/2023  9:57:25  273.66080  273.54362  1.677056e+09\n",
      "4988  22/02/2023  9:57:25  273.65886  273.53010  1.677056e+09\n",
      "4989  22/02/2023  9:57:26  273.66070  273.54068  1.677056e+09\n",
      "4990  22/02/2023  9:57:26  273.66102  273.54031  1.677056e+09\n",
      "\n",
      "[4991 rows x 5 columns]}\n"
     ]
    },
    {
     "name": "stderr",
     "output_type": "stream",
     "text": [
      "\n"
     ]
    }
   ],
   "source": [
    "def cut_plat(data,plateaus,date):\n",
    "    dplat={}\n",
    "    for plateau in plateaus[date]:\n",
    "        ti=plateaus[date][plateau][0]\n",
    "        tf=plateaus[date][plateau][1]\n",
    "        dplat[plateau]=data.loc[(data[\"Timestamp\"]-np.min(data[\"Timestamp\"])>ti)&(data[\"Timestamp\"]-np.min(data[\"Timestamp\"])<tf)].reset_index(drop=True)\n",
    "    return dplat\n",
    "\n",
    "#peaks=getters.get_raw_data(path_to_data+\"20230222\"+\"/\", filetype=\"peaks\", pol=\"Av\") \n",
    "\n",
    "temp, d=getters.get_raw_data(path_to_data+\"20230221\"+\"/\", filetype=\"temperature\", pol=\"Temp\")\n",
    "\n",
    "t_cut= cut_plat(temp,plateaus,d)\n",
    "\n",
    "print(t_cut)\n",
    "\n"
   ]
  },
  {
   "cell_type": "code",
   "execution_count": null,
   "metadata": {},
   "outputs": [],
   "source": []
  },
  {
   "cell_type": "code",
   "execution_count": 33,
   "metadata": {},
   "outputs": [
    {
     "data": {
      "text/plain": [
       "'20230221'"
      ]
     },
     "execution_count": 33,
     "metadata": {},
     "output_type": "execute_result"
    }
   ],
   "source": [
    "nombre=\"esto/lootro/\"+\"20230221\"+\"/\"\n",
    "nombre.split(\"/\")[-2]"
   ]
  },
  {
   "cell_type": "code",
   "execution_count": null,
   "metadata": {},
   "outputs": [],
   "source": []
  }
 ],
 "metadata": {
  "kernelspec": {
   "display_name": "Python 3",
   "language": "python",
   "name": "python3"
  },
  "language_info": {
   "codemirror_mode": {
    "name": "ipython",
    "version": 3
   },
   "file_extension": ".py",
   "mimetype": "text/x-python",
   "name": "python",
   "nbconvert_exporter": "python",
   "pygments_lexer": "ipython3",
   "version": "3.6.8"
  }
 },
 "nbformat": 4,
 "nbformat_minor": 2
}
