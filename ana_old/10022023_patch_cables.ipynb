{
 "cells": [
  {
   "cell_type": "code",
   "execution_count": 1,
   "metadata": {},
   "outputs": [],
   "source": [
    "import read_files, manage_data\n",
    "from scipy.optimize import curve_fit\n",
    "import matplotlib.pyplot as plt\n",
    "import numpy as np\n",
    "import pandas as pd"
   ]
  },
  {
   "cell_type": "code",
   "execution_count": 2,
   "metadata": {},
   "outputs": [],
   "source": [
    "path_to_folder = \"/eos/user/j/jcapotor/FBGdata/Data/PatchCableTests/20230210/\"\n",
    "files = [\"1\", \"2\", \"3\", \"4\", \"5\", \"6\", \"7\", \"9\", \"10\"]"
   ]
  },
  {
   "cell_type": "code",
   "execution_count": 3,
   "metadata": {},
   "outputs": [],
   "source": [
    "def line(x, A, B):\n",
    "    return A+B*x"
   ]
  },
  {
   "cell_type": "code",
   "execution_count": 4,
   "metadata": {},
   "outputs": [
    {
     "name": "stdout",
     "output_type": "stream",
     "text": [
      "Filling Run1\n",
      "Downsampling peaks/temperature ...\n",
      "Downsampling peaks/temperature ...\n",
      "Processed peaks\n",
      "Downsampling spectrum...\n",
      "Downsampling spectrum...\n"
     ]
    },
    {
     "name": "stderr",
     "output_type": "stream",
     "text": [
      "/afs/cern.ch/user/j/jcapotor/FBGana/venv/lib64/python3.6/site-packages/scipy/optimize/minpack.py:829: OptimizeWarning: Covariance of the parameters could not be estimated\n",
      "  category=OptimizeWarning)\n"
     ]
    },
    {
     "name": "stdout",
     "output_type": "stream",
     "text": [
      "Filling Run2\n",
      "Downsampling peaks/temperature ...\n",
      "Downsampling peaks/temperature ...\n",
      "Processed peaks\n",
      "Downsampling spectrum...\n",
      "Downsampling spectrum...\n"
     ]
    },
    {
     "name": "stderr",
     "output_type": "stream",
     "text": [
      "/afs/cern.ch/user/j/jcapotor/FBGana/venv/lib64/python3.6/site-packages/scipy/optimize/minpack.py:829: OptimizeWarning: Covariance of the parameters could not be estimated\n",
      "  category=OptimizeWarning)\n"
     ]
    },
    {
     "name": "stdout",
     "output_type": "stream",
     "text": [
      "Filling Run3\n",
      "Downsampling peaks/temperature ...\n",
      "Downsampling peaks/temperature ...\n",
      "Processed peaks\n",
      "Downsampling spectrum...\n",
      "Downsampling spectrum...\n"
     ]
    },
    {
     "name": "stderr",
     "output_type": "stream",
     "text": [
      "/afs/cern.ch/user/j/jcapotor/FBGana/venv/lib64/python3.6/site-packages/scipy/optimize/minpack.py:829: OptimizeWarning: Covariance of the parameters could not be estimated\n",
      "  category=OptimizeWarning)\n"
     ]
    },
    {
     "name": "stdout",
     "output_type": "stream",
     "text": [
      "Filling Run4\n",
      "Downsampling peaks/temperature ...\n",
      "Downsampling peaks/temperature ...\n",
      "Processed peaks\n",
      "Downsampling spectrum...\n",
      "Downsampling spectrum...\n"
     ]
    },
    {
     "name": "stderr",
     "output_type": "stream",
     "text": [
      "/afs/cern.ch/user/j/jcapotor/FBGana/venv/lib64/python3.6/site-packages/scipy/optimize/minpack.py:829: OptimizeWarning: Covariance of the parameters could not be estimated\n",
      "  category=OptimizeWarning)\n"
     ]
    },
    {
     "name": "stdout",
     "output_type": "stream",
     "text": [
      "Filling Run5\n",
      "Downsampling peaks/temperature ...\n",
      "Downsampling peaks/temperature ...\n",
      "Processed peaks\n",
      "Downsampling spectrum...\n",
      "Downsampling spectrum...\n"
     ]
    },
    {
     "name": "stderr",
     "output_type": "stream",
     "text": [
      "/afs/cern.ch/user/j/jcapotor/FBGana/venv/lib64/python3.6/site-packages/scipy/optimize/minpack.py:829: OptimizeWarning: Covariance of the parameters could not be estimated\n",
      "  category=OptimizeWarning)\n"
     ]
    },
    {
     "name": "stdout",
     "output_type": "stream",
     "text": [
      "Filling Run6\n",
      "Downsampling peaks/temperature ...\n",
      "Downsampling peaks/temperature ...\n",
      "Processed peaks\n",
      "Downsampling spectrum...\n",
      "Downsampling spectrum...\n"
     ]
    },
    {
     "name": "stderr",
     "output_type": "stream",
     "text": [
      "/afs/cern.ch/user/j/jcapotor/FBGana/venv/lib64/python3.6/site-packages/scipy/optimize/minpack.py:829: OptimizeWarning: Covariance of the parameters could not be estimated\n",
      "  category=OptimizeWarning)\n"
     ]
    },
    {
     "name": "stdout",
     "output_type": "stream",
     "text": [
      "Filling Run7\n",
      "Downsampling peaks/temperature ...\n",
      "Downsampling peaks/temperature ...\n",
      "Processed peaks\n",
      "Downsampling spectrum...\n",
      "Downsampling spectrum...\n"
     ]
    },
    {
     "name": "stderr",
     "output_type": "stream",
     "text": [
      "/afs/cern.ch/user/j/jcapotor/FBGana/venv/lib64/python3.6/site-packages/scipy/optimize/minpack.py:829: OptimizeWarning: Covariance of the parameters could not be estimated\n",
      "  category=OptimizeWarning)\n"
     ]
    },
    {
     "name": "stdout",
     "output_type": "stream",
     "text": [
      "Filling Run9\n",
      "Downsampling peaks/temperature ...\n",
      "Downsampling peaks/temperature ...\n",
      "Processed peaks\n",
      "Downsampling spectrum...\n",
      "Downsampling spectrum...\n",
      "Filling Run10\n",
      "Downsampling peaks/temperature ...\n",
      "Downsampling peaks/temperature ...\n",
      "Processed peaks\n",
      "Downsampling spectrum...\n",
      "Downsampling spectrum...\n"
     ]
    }
   ],
   "source": [
    "amp_results = {}\n",
    "wav_results = {}\n",
    "fwhm_results = {}\n",
    "residuals_results = {}\n",
    "baseline_results = {}\n",
    "for file in files:\n",
    "    try:\n",
    "        print(\"Filling Run\" + file)\n",
    "        peaks = read_files.read_peaks(path_to_folder + \"Run\"+file+\"_peaks.txt\")\n",
    "        peaks_p, peaks_s, peaks_p_full, peaks_s_full = manage_data.process_data(peaks)\n",
    "        spectrums = read_files.read_spectrums(path_to_folder + \"Run\"+file+\"_specs.txt\", [0])\n",
    "        spectrums_p, spectrums_s, spectrums_p_full, spectrums_s_full = manage_data.process_data(spectrums)\n",
    "        spectrums_p, peaks_p = manage_data.match_dataframes(spectrums_p, peaks_p)\n",
    "\n",
    "        amp_results[\"Run\"+file] = {}\n",
    "        wav_results[\"Run\"+file] = {}\n",
    "        fwhm_results[\"Run\"+file] = {}\n",
    "        residuals_results[\"Run\"+file] = {}\n",
    "        baseline_results[\"Run\"+file] = np.mean(spectrums_p[\"Baseline\"])\n",
    "        for variable in [\"Wav1-1\", \"Wav1-2\", \"Wav1-3\", \"Wav1-4\"]:\n",
    "            amp_results[\"Run\"+file][\"specs_P_\"+variable+\"_amp (AU)\"] = str(np.round(np.mean(spectrums_p[variable+\"_amp\"]), 0)) + \" +- \" + str(np.round(np.std(spectrums_p[variable+\"_amp\"]),0))\n",
    "            wav_results[\"Run\"+file][\"peaks_P_\"+variable] = str(np.round(np.mean(peaks_p[variable]*1e9), 6)) + \" +- \" + str(np.round(np.std(peaks_p[variable]*1e9), 6)) + \" nm\"\n",
    "            wav_results[\"Run\"+file][\"specs_P_\"+variable] = str(np.round(np.mean(spectrums_p[variable]), 6)) + \" +- \" + str(np.round(np.std(spectrums_p[variable]), 6)) + \" nm\"\n",
    "            fwhm_results[\"Run\"+file][\"specs_P_\"+variable+\"_sigma\"] = str(np.round(np.mean(spectrums_p[variable+\"_fwhm\"]), 6)) + \" +- \" + str(np.round(np.std(spectrums_p[variable+\"_fwhm\"]), 6)) + \" nm\"\n",
    "            popt_specs, pcov_specs = curve_fit(line, spectrums_p[\"Timestamp\"], spectrums_p[variable])\n",
    "            popt_peaks, pcov_peaks = curve_fit(line, peaks_p[\"Timestamp\"], peaks_p[variable]*1e9)\n",
    "            res_specs = line(spectrums_p[\"Timestamp\"], popt_specs[0], popt_specs[1]) - spectrums_p[variable]\n",
    "            res_peaks = line(peaks_p[\"Timestamp\"], popt_peaks[0], popt_peaks[1]) - peaks_p[variable]*1e9\n",
    "            \n",
    "            residuals_results[\"Run\"+file][\"peaks_P\"+variable+\"_residuals\"] = (np.round(np.std(res_peaks*1e6), 1))\n",
    "            residuals_results[\"Run\"+file][\"spectrums_P\"+variable+\"_residuals\"] = (np.round(np.std(res_specs*1e6), 1))\n",
    "    except:\n",
    "        continue"
   ]
  },
  {
   "cell_type": "code",
   "execution_count": 5,
   "metadata": {},
   "outputs": [
    {
     "name": "stdout",
     "output_type": "stream",
     "text": [
      "Residuals (fm)\n",
      "       peaks_PWav1-1_residuals  spectrums_PWav1-1_residuals  \\\n",
      "Run1                      36.9                         43.2   \n",
      "Run2                     231.7                        247.6   \n",
      "Run3                     176.3                        183.5   \n",
      "Run4                      35.5                         17.5   \n",
      "Run5                      45.5                       2599.9   \n",
      "Run6                      16.4                         19.5   \n",
      "Run7                      40.8                         13.1   \n",
      "Run9                     238.9                        243.1   \n",
      "Run10                   1200.7                       1096.8   \n",
      "\n",
      "       peaks_PWav1-2_residuals  spectrums_PWav1-2_residuals  \\\n",
      "Run1                      81.5                         34.9   \n",
      "Run2                     526.8                        255.9   \n",
      "Run3                     421.9                        162.9   \n",
      "Run4                       3.6                         12.7   \n",
      "Run5                   30645.4                         32.7   \n",
      "Run6                      13.0                         33.4   \n",
      "Run7                      27.7                         53.5   \n",
      "Run9                     237.2                        244.9   \n",
      "Run10                   1072.4                        968.4   \n",
      "\n",
      "       peaks_PWav1-3_residuals  spectrums_PWav1-3_residuals  \\\n",
      "Run1                     220.5                         37.4   \n",
      "Run2                     321.5                        282.1   \n",
      "Run3                     300.6                        151.1   \n",
      "Run4                      10.2                          2.9   \n",
      "Run5                      23.6                         52.3   \n",
      "Run6                      12.7                          3.7   \n",
      "Run7                      24.2                         29.4   \n",
      "Run9                     203.9                        207.3   \n",
      "Run10                   1112.9                       1089.0   \n",
      "\n",
      "       peaks_PWav1-4_residuals  spectrums_PWav1-4_residuals  \n",
      "Run1                     128.9                         55.3  \n",
      "Run2                     231.9                        260.9  \n",
      "Run3                      24.2                        166.4  \n",
      "Run4                      27.9                          8.4  \n",
      "Run5                     916.1                         19.6  \n",
      "Run6                      33.5                         31.0  \n",
      "Run7                      25.6                         27.4  \n",
      "Run9                     243.9                        240.9  \n",
      "Run10                   1774.7                       1802.0  \n"
     ]
    }
   ],
   "source": [
    "print(\"Residuals (fm)\")\n",
    "residuals = pd.DataFrame(residuals_results).T\n",
    "print(residuals)"
   ]
  },
  {
   "cell_type": "code",
   "execution_count": 6,
   "metadata": {},
   "outputs": [
    {
     "name": "stdout",
     "output_type": "stream",
     "text": [
      "      specs_P_Wav1-1_amp (AU) specs_P_Wav1-2_amp (AU) specs_P_Wav1-3_amp (AU)  \\\n",
      "Run1            3430.0 +- 2.0           3317.0 +- 3.0           3164.0 +- 2.0   \n",
      "Run2            3335.0 +- 4.0           3186.0 +- 6.0           2868.0 +- 3.0   \n",
      "Run3            2204.0 +- 2.0           2132.0 +- 4.0           2052.0 +- 2.0   \n",
      "Run4            3578.0 +- 1.0           3444.0 +- 0.0           3294.0 +- 0.0   \n",
      "Run5            3588.0 +- 3.0           3523.0 +- 3.0           3264.0 +- 6.0   \n",
      "Run6            2941.0 +- 2.0           2808.0 +- 1.0           2582.0 +- 0.0   \n",
      "Run7            3719.0 +- 1.0           3614.0 +- 1.0           3415.0 +- 4.0   \n",
      "Run9            3691.0 +- 2.0           3597.0 +- 1.0           3417.0 +- 2.0   \n",
      "Run10          1146.0 +- 31.0          1149.0 +- 27.0          1059.0 +- 24.0   \n",
      "\n",
      "      specs_P_Wav1-4_amp (AU)  \n",
      "Run1            2638.0 +- 2.0  \n",
      "Run2            2192.0 +- 3.0  \n",
      "Run3            1658.0 +- 1.0  \n",
      "Run4            2799.0 +- 1.0  \n",
      "Run5            2560.0 +- 6.0  \n",
      "Run6            2077.0 +- 1.0  \n",
      "Run7            2853.0 +- 5.0  \n",
      "Run9            2830.0 +- 4.0  \n",
      "Run10           817.0 +- 27.0  \n"
     ]
    }
   ],
   "source": [
    "print(pd.DataFrame(amp_results).T)"
   ]
  },
  {
   "cell_type": "code",
   "execution_count": 7,
   "metadata": {},
   "outputs": [
    {
     "name": "stdout",
     "output_type": "stream",
     "text": [
      "Sigma of gaussian fit (pm)\n",
      "              specs_P_Wav1-1_sigma         specs_P_Wav1-2_sigma  \\\n",
      "Run1        0.095542 +- 6.6e-05 nm       0.100907 +- 4.6e-05 nm   \n",
      "Run2   285.779778 +- 699.777429 nm      0.101741 +- 0.000107 nm   \n",
      "Run3        0.095379 +- 6.6e-05 nm         0.099291 +- 2e-05 nm   \n",
      "Run4        0.095681 +- 8.3e-05 nm       0.100351 +- 1.9e-05 nm   \n",
      "Run5        0.097408 +- 2.2e-05 nm       0.102352 +- 1.8e-05 nm   \n",
      "Run6        0.095735 +- 4.6e-05 nm       0.099669 +- 4.8e-05 nm   \n",
      "Run7        0.095028 +- 4.3e-05 nm        0.09896 +- 3.7e-05 nm   \n",
      "Run9        0.095543 +- 6.2e-05 nm       0.099707 +- 6.1e-05 nm   \n",
      "Run10      0.097558 +- 0.000205 nm  272.798245 +- 686.273066 nm   \n",
      "\n",
      "          specs_P_Wav1-3_sigma         specs_P_Wav1-4_sigma  \n",
      "Run1    0.100278 +- 7.2e-05 nm       0.097244 +- 3.2e-05 nm  \n",
      "Run2    0.100839 +- 3.1e-05 nm       0.097315 +- 5.8e-05 nm  \n",
      "Run3    0.098546 +- 1.2e-05 nm        0.09761 +- 5.6e-05 nm  \n",
      "Run4      0.099265 +- 4e-06 nm       0.096584 +- 6.8e-05 nm  \n",
      "Run5     0.10053 +- 4.4e-05 nm          0.09669 +- 2e-06 nm  \n",
      "Run6    0.099111 +- 6.1e-05 nm       0.097149 +- 3.7e-05 nm  \n",
      "Run7    0.099027 +- 3.9e-05 nm  400.054026 +- 799.912122 nm  \n",
      "Run9      0.097538 +- 6e-05 nm       0.097163 +- 4.8e-05 nm  \n",
      "Run10  0.099549 +- 0.000162 nm   90.996861 +- 416.552031 nm  \n"
     ]
    }
   ],
   "source": [
    "print(\"Sigma of gaussian fit (pm)\")\n",
    "print(pd.DataFrame(fwhm_results).T)"
   ]
  },
  {
   "cell_type": "code",
   "execution_count": 8,
   "metadata": {},
   "outputs": [
    {
     "name": "stdout",
     "output_type": "stream",
     "text": [
      "                   peaks_P_Wav1-1              specs_P_Wav1-1  \\\n",
      "Run1    1540.018302 +- 5.1e-05 nm   1540.018616 +- 5.3e-05 nm   \n",
      "Run2     1540.02012 +- 0.00027 nm  1540.020312 +- 0.000297 nm   \n",
      "Run3   1540.014616 +- 0.000176 nm  1540.014921 +- 0.000171 nm   \n",
      "Run4   1540.018359 +- 0.000106 nm   1540.018638 +- 5.1e-05 nm   \n",
      "Run5   1540.022302 +- 0.000119 nm  1540.022495 +- 0.000126 nm   \n",
      "Run6     1540.01713 +- 3.2e-05 nm    1540.01755 +- 2.7e-05 nm   \n",
      "Run7   1540.021425 +- 0.000109 nm  1540.021715 +- 0.000103 nm   \n",
      "Run9    1540.028384 +- 0.00024 nm  1540.028619 +- 0.000245 nm   \n",
      "Run10  1540.034716 +- 0.001213 nm  1540.035097 +- 0.001128 nm   \n",
      "\n",
      "                   peaks_P_Wav1-2              specs_P_Wav1-2  \\\n",
      "Run1   1545.129833 +- 0.000122 nm    1545.09013 +- 4.5e-05 nm   \n",
      "Run2   1545.130792 +- 0.000566 nm   1545.09112 +- 0.000298 nm   \n",
      "Run3    1545.124002 +- 0.00044 nm  1545.084586 +- 0.000147 nm   \n",
      "Run4   1545.129265 +- 0.000124 nm   1545.089356 +- 0.00013 nm   \n",
      "Run5   1545.134614 +- 0.000149 nm   1545.095017 +- 8.7e-05 nm   \n",
      "Run6    1545.085654 +- 3.1e-05 nm     1545.086319 +- 3e-05 nm   \n",
      "Run7   1545.091504 +- 0.000127 nm  1545.092081 +- 0.000125 nm   \n",
      "Run9   1545.100557 +- 0.000244 nm   1545.101383 +- 0.00025 nm   \n",
      "Run10  1545.108067 +- 0.001078 nm    1545.10893 +- 0.00097 nm   \n",
      "\n",
      "                   peaks_P_Wav1-3              specs_P_Wav1-3  \\\n",
      "Run1   1550.226562 +- 0.000337 nm   1550.186496 +- 5.2e-05 nm   \n",
      "Run2   1550.224887 +- 0.000342 nm  1550.184775 +- 0.000288 nm   \n",
      "Run3   1550.219506 +- 0.000286 nm  1550.178932 +- 0.000151 nm   \n",
      "Run4    1550.227107 +- 2.5e-05 nm  1550.186035 +- 0.000141 nm   \n",
      "Run5   1550.230291 +- 0.000135 nm  1550.189666 +- 0.000137 nm   \n",
      "Run6    1550.179518 +- 2.3e-05 nm   1550.180181 +- 4.2e-05 nm   \n",
      "Run7   1550.187356 +- 0.000166 nm   1550.18787 +- 0.000172 nm   \n",
      "Run9   1550.196409 +- 0.000214 nm   1550.19717 +- 0.000218 nm   \n",
      "Run10  1550.202646 +- 0.001125 nm  1550.203378 +- 0.001103 nm   \n",
      "\n",
      "                   peaks_P_Wav1-4              specs_P_Wav1-4  \n",
      "Run1   1555.133601 +- 0.000272 nm   1555.092816 +- 5.5e-05 nm  \n",
      "Run2   1555.127599 +- 0.000233 nm  1555.087449 +- 0.000316 nm  \n",
      "Run3   1555.126239 +- 0.000226 nm  1555.086231 +- 0.000164 nm  \n",
      "Run4   1555.133725 +- 0.000324 nm  1555.093208 +- 0.000135 nm  \n",
      "Run5   1555.132001 +- 0.000123 nm  1555.091665 +- 0.000136 nm  \n",
      "Run6   1555.084501 +- 0.000123 nm   1555.08545 +- 0.000125 nm  \n",
      "Run7   1555.095634 +- 0.000204 nm  1555.096505 +- 0.000185 nm  \n",
      "Run9   1555.102617 +- 0.000244 nm  1555.103286 +- 0.000242 nm  \n",
      "Run10  1555.102455 +- 0.001963 nm  1555.103181 +- 0.002012 nm  \n",
      "Comparison of I4G peak - Spectrums peak (fm)\n",
      "       Wav1-1 (fm)  Wav1-2 (fm)  Wav1-3 (fm)  Wav1-4 (fm)\n",
      "Run1         314.0     -39703.0     -40066.0     -40785.0\n",
      "Run2         192.0     -39672.0     -40112.0     -40150.0\n",
      "Run3         305.0     -39416.0     -40574.0     -40008.0\n",
      "Run4         279.0     -39909.0     -41072.0     -40517.0\n",
      "Run5         193.0     -39597.0     -40625.0     -40336.0\n",
      "Run6         420.0        665.0        663.0        949.0\n",
      "Run7         290.0        577.0        514.0        871.0\n",
      "Run9         235.0        826.0        761.0        669.0\n",
      "Run10        381.0        863.0        732.0        726.0\n"
     ]
    }
   ],
   "source": [
    "residuals = pd.DataFrame(wav_results).T\n",
    "print(residuals)\n",
    "print(\"Comparison of I4G peak - Spectrums peak (fm)\")\n",
    "comparison = {}\n",
    "for index, row in residuals.iterrows():\n",
    "    comparison[index] = {}\n",
    "    for i in range(1,5):\n",
    "        try:\n",
    "            peaks_name = \"peaks_P_Wav1-\"+str(i)\n",
    "            specs_name = \"specs_P_Wav1-\"+str(i)\n",
    "            peaks_value = float(row[peaks_name].split(\" \")[0])\n",
    "            specs_value = float(row[specs_name].split(\" \")[0])\n",
    "            comparison[index][\"Wav1-\"+str(i)+\" (fm)\"] = (specs_value - peaks_value)*1e6\n",
    "        except:\n",
    "            continue\n",
    "print(pd.DataFrame(comparison).T)"
   ]
  },
  {
   "cell_type": "code",
   "execution_count": null,
   "metadata": {},
   "outputs": [],
   "source": []
  }
 ],
 "metadata": {
  "interpreter": {
   "hash": "0670aacaf5416ed8947019f9606138468b9d61d218d571df06a0d7d32be65512"
  },
  "kernelspec": {
   "display_name": "Python 3.6.8 ('venv': venv)",
   "language": "python",
   "name": "python3"
  },
  "language_info": {
   "codemirror_mode": {
    "name": "ipython",
    "version": 3
   },
   "file_extension": ".py",
   "mimetype": "text/x-python",
   "name": "python",
   "nbconvert_exporter": "python",
   "pygments_lexer": "ipython3",
   "version": "3.6.8"
  },
  "orig_nbformat": 4
 },
 "nbformat": 4,
 "nbformat_minor": 2
}
