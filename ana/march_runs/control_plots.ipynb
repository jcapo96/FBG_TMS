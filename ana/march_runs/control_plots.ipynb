{
 "cells": [
  {
   "cell_type": "code",
   "execution_count": 1,
   "metadata": {},
   "outputs": [],
   "source": [
    "import sys\n",
    "sys.path.insert(1, '../../ana_tools')\n",
    "import getters, tools\n",
    "import matplotlib.pyplot as plt\n",
    "import numpy as np"
   ]
  },
  {
   "cell_type": "code",
   "execution_count": 2,
   "metadata": {},
   "outputs": [
    {
     "name": "stdout",
     "output_type": "stream",
     "text": [
      "/afs/cern.ch/user/d/dunetms/FBG_TMS\n",
      "/afs/cern.ch/user/d/dunetms/FBG_TMS/ana_tools/plateaus.json\n"
     ]
    }
   ],
   "source": [
    "plateaus = getters.get_plateaus()"
   ]
  },
  {
   "cell_type": "code",
   "execution_count": 3,
   "metadata": {},
   "outputs": [
    {
     "name": "stdout",
     "output_type": "stream",
     "text": [
      "Keys to read: ['10Av1', '11Av1', '12Av1', '13Av1', '14Av1', '15Av1', '16Av1', '17Av1', '18Av1', '19Av1', '1Av1', '20Av1', '21Av1', '22Av1', '23Av1', '2Av1', '3Av1', '4Av1', '5Av1', '6Av1', '7Av1', '8Av1', '9Av1']\n"
     ]
    },
    {
     "name": "stderr",
     "output_type": "stream",
     "text": [
      "Reading peaks key: Av: 100%|██████████| 23/23 [01:05<00:00,  2.83s/it]\n"
     ]
    },
    {
     "name": "stdout",
     "output_type": "stream",
     "text": [
      "10000 12000\n",
      "22000 24300\n",
      "34000 36000\n",
      "45000 52000\n",
      "61000 63500\n",
      "73000 76000\n",
      "85000 87500\n",
      "Keys to read: ['10Av2', '1Av1', '1Av2', '1Av3', '2Av1', '2Av2', '2Av3', '3Av1', '3Av2', '3Av3', '4Av1', '4Av2', '4Av3', '5Av1', '5Av2', '5Av3', '6Av1', '6Av2', '6Av3', '7Av1', '7Av2', '8Av2', '9Av2']\n"
     ]
    },
    {
     "name": "stderr",
     "output_type": "stream",
     "text": [
      "Reading peaks key: Av: 100%|██████████| 23/23 [01:02<00:00,  2.72s/it]\n"
     ]
    },
    {
     "name": "stdout",
     "output_type": "stream",
     "text": [
      "14000 19800\n",
      "34000 39000\n",
      "53000 58200\n",
      "68000 77300\n",
      "Keys to read: ['10Av1', '11Av1', '12Av1', '13Av1', '14Av1', '1Av1', '2Av1', '3Av1', '4Av1', '5Av1', '6Av1', '7Av1', '8Av1', '9Av1']\n"
     ]
    },
    {
     "name": "stderr",
     "output_type": "stream",
     "text": [
      "Reading peaks key: Av: 100%|██████████| 14/14 [00:15<00:00,  1.11s/it]\n"
     ]
    },
    {
     "name": "stdout",
     "output_type": "stream",
     "text": [
      "12500 24000\n",
      "34000 48000\n",
      "Keys to read: ['10Av2', '10Av3', '10Av4', '11Av2', '11Av3', '11Av4', '12Av2', '12Av3', '12Av4', '13Av2', '13Av3', '13Av4', '14Av2', '14Av3', '14Av4', '15Av2', '15Av3', '15Av4', '16Av2', '16Av3', '16Av4', '17Av2', '17Av3', '17Av4', '18Av2', '18Av3', '18Av4', '19Av2', '19Av3', '19Av4', '1Av1', '1Av2', '1Av3', '1Av4', '20Av2', '20Av3', '20Av4', '21Av2', '21Av4', '2Av2', '2Av3', '2Av4', '3Av2', '3Av3', '3Av4', '4Av2', '4Av3', '4Av4', '5Av2', '5Av3', '5Av4', '6Av2', '6Av3', '6Av4', '7Av2', '7Av3', '7Av4', '8Av2', '8Av3', '8Av4', '9Av2', '9Av3', '9Av4']\n"
     ]
    },
    {
     "name": "stderr",
     "output_type": "stream",
     "text": [
      "Reading peaks key: Av: 100%|██████████| 63/63 [06:52<00:00,  6.54s/it]\n"
     ]
    },
    {
     "name": "stdout",
     "output_type": "stream",
     "text": [
      "11900 15900\n",
      "27750 31750\n",
      "43650 47650\n",
      "59550 63550\n",
      "75450 79450\n",
      "91350 95350\n",
      "106450 110450\n",
      "122350 126350\n",
      "138250 142250\n",
      "154150 158150\n",
      "170050 174050\n",
      "186000 190000\n",
      "201900 205900\n",
      "217800 221800\n",
      "233700 237700\n"
     ]
    }
   ],
   "source": [
    "res_plateau = {}\n",
    "for date in plateaus.keys():\n",
    "    path = \"/eos/user/j/jcapotor/FBGana/camara_climatica/FebruaryRuns/\" + date + \"/\"\n",
    "    peaks = getters.get_raw_data(path, filetype=\"peaks\", pol=\"Av\")\n",
    "    t0 = np.min(peaks[\"Timestamp\"])\n",
    "    res_plateau[date] = {}\n",
    "    for plateau in plateaus[date].keys():\n",
    "        res_plateau[date][plateau] = {}\n",
    "        tini, tend = plateaus[date][plateau][0], plateaus[date][plateau][1]\n",
    "        print(tini, tend)\n",
    "        pav = peaks.loc[(peaks[\"Timestamp\"]-t0 > tini) & (peaks[\"Timestamp\"]-t0 < tend)].dropna().sort_values(by=\"Timestamp\").reset_index(drop=True)\n",
    "        tplot = np.min(pav[\"Timestamp\"])\n",
    "        for sens in pav.columns:\n",
    "            if sens == \"Timestamp\":\n",
    "                continue\n",
    "            offset = np.mean(pav[\"Wav1-1\"] - pav[\"Wav1-1\"][0] - pav[sens] - pav[sens][0])\n",
    "            res_plateau[date][plateau][sens] = offset\n"
   ]
  },
  {
   "cell_type": "code",
   "execution_count": 14,
   "metadata": {},
   "outputs": [],
   "source": [
    "means = []\n",
    "for i in RESULTS:\n",
    "    means.append(np.mean(i))"
   ]
  },
  {
   "cell_type": "code",
   "execution_count": 17,
   "metadata": {},
   "outputs": [
    {
     "name": "stdout",
     "output_type": "stream",
     "text": [
      "12.866417256744803\n"
     ]
    }
   ],
   "source": [
    "print(np.std(means)*1e12)"
   ]
  },
  {
   "cell_type": "code",
   "execution_count": null,
   "metadata": {},
   "outputs": [],
   "source": []
  }
 ],
 "metadata": {
  "kernelspec": {
   "display_name": "Python 3",
   "language": "python",
   "name": "python3"
  },
  "language_info": {
   "codemirror_mode": {
    "name": "ipython",
    "version": 3
   },
   "file_extension": ".py",
   "mimetype": "text/x-python",
   "name": "python",
   "nbconvert_exporter": "python",
   "pygments_lexer": "ipython3",
   "version": "3.6.8"
  }
 },
 "nbformat": 4,
 "nbformat_minor": 2
}
