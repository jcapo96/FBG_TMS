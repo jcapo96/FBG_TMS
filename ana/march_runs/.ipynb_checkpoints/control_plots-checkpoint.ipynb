{
 "cells": [
  {
   "cell_type": "code",
   "execution_count": 1,
   "metadata": {},
   "outputs": [],
   "source": [
    "import sys\n",
    "sys.path.insert(1, '../../ana_tools')\n",
    "import getters, tools\n",
    "import matplotlib.pyplot as plt\n",
    "import numpy as np"
   ]
  },
  {
   "cell_type": "code",
   "execution_count": 2,
   "metadata": {},
   "outputs": [
    {
     "name": "stdout",
     "output_type": "stream",
     "text": [
      "/afs/cern.ch/user/j/jcapotor/FBG_TMS\n",
      "/afs/cern.ch/user/j/jcapotor/FBG_TMS/ana_tools/plateaus.json\n"
     ]
    }
   ],
   "source": [
    "plateaus = getters.get_plateaus()"
   ]
  },
  {
   "cell_type": "code",
   "execution_count": 17,
   "metadata": {},
   "outputs": [],
   "source": [
    "path1 = \"/eos/user/j/jcapotor/FBGana/camara_climatica/MarchRuns/20230321/\"\n",
    "path2 = \"/eos/user/j/jcapotor/FBGana/camara_climatica/MarchRuns/20230322/\"\n",
    "path3 = \"/eos/user/j/jcapotor/FBGana/camara_climatica/MarchRuns/20230323/\""
   ]
  },
  {
   "cell_type": "code",
   "execution_count": 4,
   "metadata": {},
   "outputs": [
    {
     "name": "stdout",
     "output_type": "stream",
     "text": [
      "Keys to read: ['10Av1', '11Av1', '1Av1', '1Av2', '2Av1', '2Av2', '3Av1', '3Av2', '4Av1', '4Av2', '5Av1', '5Av2', '6Av1', '7Av1', '8Av1', '9Av1']\n"
     ]
    },
    {
     "name": "stderr",
     "output_type": "stream",
     "text": [
      "Reading peaks key: Av: 100%|██████████| 16/16 [00:23<00:00,  1.46s/it]\n"
     ]
    }
   ],
   "source": [
    "pav1 = getters.get_raw_data(path1, filetype=\"peaks\", pol=\"Av\")"
   ]
  },
  {
   "cell_type": "code",
   "execution_count": 14,
   "metadata": {},
   "outputs": [
    {
     "name": "stdout",
     "output_type": "stream",
     "text": [
      "Keys to read: ['10Av3', '1Av1', '1Av2', '1Av3', '1Av4', '2Av1', '2Av3', '2Av4', '3Av1', '3Av3', '3Av4', '4Av1', '4Av3', '4Av4', '5Av3', '5Av4', '6Av3', '7Av3', '8Av3', '9Av3']\n"
     ]
    },
    {
     "name": "stderr",
     "output_type": "stream",
     "text": [
      "Reading peaks key: Av: 100%|██████████| 20/20 [00:35<00:00,  1.76s/it]\n"
     ]
    }
   ],
   "source": [
    "pav2 = getters.get_raw_data(path2, filetype=\"peaks\", pol=\"Av\")"
   ]
  },
  {
   "cell_type": "code",
   "execution_count": 19,
   "metadata": {},
   "outputs": [
    {
     "name": "stdout",
     "output_type": "stream",
     "text": [
      "Keys to read: ['10Av0', '11Av0', '12Av0', '13Av0', '14Av0', '15Av0', '16Av0', '17Av0', '1Av0', '2Av0', '3Av0', '4Av0', '5Av0', '6Av0', '7Av0', '8Av0', '9Av0']\n"
     ]
    },
    {
     "name": "stderr",
     "output_type": "stream",
     "text": [
      "Reading peaks key: Av: 100%|██████████| 17/17 [00:14<00:00,  1.17it/s]\n"
     ]
    }
   ],
   "source": [
    "pav3 = getters.get_raw_data(path3, filetype=\"peaks\", pol=\"Av\")"
   ]
  },
  {
   "cell_type": "code",
   "execution_count": 22,
   "metadata": {},
   "outputs": [],
   "source": [
    "pav1 = pav1.sort_values(by=\"Timestamp\").reset_index(drop=True)\n",
    "pav2 = pav2.sort_values(by=\"Timestamp\").reset_index(drop=True)\n",
    "pav3 = pav3.sort_values(by=\"Timestamp\").reset_index(drop=True)"
   ]
  },
  {
   "cell_type": "code",
   "execution_count": 24,
   "metadata": {},
   "outputs": [
    {
     "data": {
      "text/plain": [
       "[<matplotlib.lines.Line2D at 0x7fb8e1d946d8>]"
      ]
     },
     "execution_count": 24,
     "metadata": {},
     "output_type": "execute_result"
    },
    {
     "data": {
      "image/png": "[encoded data removed]",
      "text/plain": [
       "<Figure size 432x288 with 1 Axes>"
      ]
     },
     "metadata": {
      "needs_background": "light"
     },
     "output_type": "display_data"
    }
   ],
   "source": [
    "plt.plot(pav1[\"Timestamp\"]-pav1[\"Timestamp\"][0], pav1[\"Wav1-1\"], \".\")\n",
    "plt.plot(pav2[\"Timestamp\"]-pav2[\"Timestamp\"][0], pav2[\"Wav1-1\"], \".\")"
   ]
  },
  {
   "cell_type": "code",
   "execution_count": null,
   "metadata": {},
   "outputs": [],
   "source": []
  },
  {
   "cell_type": "code",
   "execution_count": null,
   "metadata": {},
   "outputs": [],
   "source": []
  }
 ],
 "metadata": {
  "kernelspec": {
   "display_name": "Python 3",
   "language": "python",
   "name": "python3"
  },
  "language_info": {
   "codemirror_mode": {
    "name": "ipython",
    "version": 3
   },
   "file_extension": ".py",
   "mimetype": "text/x-python",
   "name": "python",
   "nbconvert_exporter": "python",
   "pygments_lexer": "ipython3",
   "version": "3.6.8"
  }
 },
 "nbformat": 4,
 "nbformat_minor": 2
}
