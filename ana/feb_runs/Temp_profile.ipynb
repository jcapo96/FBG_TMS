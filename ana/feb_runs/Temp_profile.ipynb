{
 "cells": [
  {
   "cell_type": "code",
   "execution_count": 1,
   "id": "de452c50",
   "metadata": {},
   "outputs": [],
   "source": [
    "import sys\n",
    "sys.path.insert(1, '../../ana_tools')\n",
    "import getters, tools\n",
    "import matplotlib.pyplot as plt\n",
    "import numpy as np"
   ]
  },
  {
   "cell_type": "code",
   "execution_count": 2,
   "id": "caafefa9",
   "metadata": {},
   "outputs": [
    {
     "name": "stdout",
     "output_type": "stream",
     "text": [
      "/afs/cern.ch/user/d/dunetms/FBG_TMS\n",
      "/afs/cern.ch/user/d/dunetms/FBG_TMS/ana_tools/plateaus.json\n"
     ]
    }
   ],
   "source": [
    "plateaus = getters.get_plateaus()\n",
    "\n",
    "path_to_data = \"/eos/user/j/jcapotor/FBGana/camara_climatica/FebruaryRuns/\"\n",
    "#dates= [\"20230221\",\"20230222\",\"20230223\",\"20230224\"]\n",
    "dates= [\"20230221\",\"20230222\"]"
   ]
  },
  {
   "cell_type": "code",
   "execution_count": null,
   "id": "d28f3ad9",
   "metadata": {},
   "outputs": [
    {
     "name": "stdout",
     "output_type": "stream",
     "text": [
      "Keys to read: ['10Av1', '11Av1', '12Av1', '13Av1', '14Av1', '15Av1', '16Av1', '17Av1', '18Av1', '19Av1', '1Av1', '20Av1', '21Av1', '22Av1', '23Av1', '2Av1', '3Av1', '4Av1', '5Av1', '6Av1', '7Av1', '8Av1', '9Av1']\n"
     ]
    },
    {
     "name": "stderr",
     "output_type": "stream",
     "text": [
      "Reading peaks key: Av:   9%|▊         | 2/23 [00:14<02:23,  6.85s/it]"
     ]
    }
   ],
   "source": [
    "data= getters.get_raw_data(path_to_data+\"20230221\"+\"/\", filetype=\"peaks\", pol=\"Av\")"
   ]
  },
  {
   "cell_type": "code",
   "execution_count": null,
   "id": "a0bfff7a",
   "metadata": {},
   "outputs": [],
   "source": [
    "plt.figure(figsize=(10,10))\n",
    "\n",
    "data=data.loc[(data[\"Wav1-1\"]>1.4e-6) &(data[\"Wav1-5\"]>1.4e-6) ].sort_values(by=\"Timestamp\").reset_index(drop=True)\n",
    "t0=data[\"Timestamp\"][0]\n",
    "\n",
    "for col in data.columns:\n",
    "    if col !=\"Timestamp\":\n",
    "        plt.plot(data[\"Timestamp\"]-t0,(data[col]-data[col][0])*1e12,label=col)\n",
    "plt.legend()"
   ]
  },
  {
   "cell_type": "code",
   "execution_count": null,
   "id": "4246405d",
   "metadata": {},
   "outputs": [],
   "source": []
  }
 ],
 "metadata": {
  "kernelspec": {
   "display_name": "Python 3",
   "language": "python",
   "name": "python3"
  },
  "language_info": {
   "codemirror_mode": {
    "name": "ipython",
    "version": 3
   },
   "file_extension": ".py",
   "mimetype": "text/x-python",
   "name": "python",
   "nbconvert_exporter": "python",
   "pygments_lexer": "ipython3",
   "version": "3.6.8"
  }
 },
 "nbformat": 4,
 "nbformat_minor": 5
}
