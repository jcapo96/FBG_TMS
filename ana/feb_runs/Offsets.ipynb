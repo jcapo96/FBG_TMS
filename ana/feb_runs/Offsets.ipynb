{
 "cells": [
  {
   "cell_type": "code",
   "execution_count": 1,
   "id": "22bc06fa",
   "metadata": {},
   "outputs": [],
   "source": [
    "import sys\n",
    "sys.path.insert(1, '../../ana_tools')\n",
    "import getters, tools\n",
    "import matplotlib.pyplot as plt\n",
    "import numpy as np\n"
   ]
  },
  {
   "cell_type": "code",
   "execution_count": 2,
   "id": "a87d931b",
   "metadata": {},
   "outputs": [
    {
     "name": "stdout",
     "output_type": "stream",
     "text": [
      "/afs/cern.ch/user/d/dunetms/FBG_TMS\n",
      "/afs/cern.ch/user/d/dunetms/FBG_TMS/ana_tools/plateaus.json\n"
     ]
    }
   ],
   "source": [
    "plateaus = getters.get_plateaus()\n",
    "\n",
    "path_to_data = \"/eos/user/j/jcapotor/FBGana/camara_climatica/FebruaryRuns/\"\n",
    "#dates= [\"20230221\",\"20230222\",\"20230223\",\"20230224\"]\n",
    "dates= [\"20230221\",\"20230222\"]"
   ]
  },
  {
   "cell_type": "code",
   "execution_count": 3,
   "id": "84adfed7",
   "metadata": {
    "scrolled": true
   },
   "outputs": [
    {
     "name": "stdout",
     "output_type": "stream",
     "text": [
      "Keys to read: ['10Av1', '11Av1', '12Av1', '13Av1', '14Av1', '15Av1', '16Av1', '17Av1', '18Av1', '19Av1', '1Av1', '20Av1', '21Av1', '22Av1', '23Av1', '2Av1', '3Av1', '4Av1', '5Av1', '6Av1', '7Av1', '8Av1', '9Av1']\n"
     ]
    },
    {
     "name": "stderr",
     "output_type": "stream",
     "text": [
      "Reading peaks key: Av: 100%|██████████| 23/23 [01:32<00:00,  4.03s/it]\n"
     ]
    },
    {
     "name": "stdout",
     "output_type": "stream",
     "text": [
      "Keys to read: ['10Av2', '1Av1', '1Av2', '1Av3', '2Av1', '2Av2', '2Av3', '3Av1', '3Av2', '3Av3', '4Av1', '4Av2', '4Av3', '5Av1', '5Av2', '5Av3', '6Av1', '6Av2', '6Av3', '7Av1', '7Av2', '8Av2', '9Av2']\n"
     ]
    },
    {
     "name": "stderr",
     "output_type": "stream",
     "text": [
      "Reading peaks key: Av: 100%|██████████| 23/23 [01:59<00:00,  5.18s/it]\n"
     ]
    }
   ],
   "source": [
    "raw_data={}\n",
    "for date in dates:\n",
    "    raw_data[date]= getters.get_raw_data(path_to_data+date+\"/\", filetype=\"peaks\", pol=\"Av\")\n",
    "    "
   ]
  },
  {
   "cell_type": "code",
   "execution_count": 4,
   "id": "561a7d19",
   "metadata": {},
   "outputs": [],
   "source": []
  },
  {
   "cell_type": "code",
   "execution_count": 6,
   "id": "d7449478",
   "metadata": {},
   "outputs": [
    {
     "name": "stdout",
     "output_type": "stream",
     "text": [
      "/afs/cern.ch/user/d/dunetms/FBG_TMS\n",
      "/afs/cern.ch/user/d/dunetms/FBG_TMS/ana_tools/plateaus.json\n",
      "/afs/cern.ch/user/d/dunetms/FBG_TMS\n",
      "/afs/cern.ch/user/d/dunetms/FBG_TMS/ana_tools/plateaus.json\n"
     ]
    },
    {
     "data": {
      "image/png": "[encoded data removed]",
      "text/plain": [
       "<Figure size 432x288 with 1 Axes>"
      ]
     },
     "metadata": {
      "needs_background": "light"
     },
     "output_type": "display_data"
    }
   ],
   "source": [
    "for date in dates:\n",
    "    plt.plot(tools.offsets_plat(date,raw_data[date])[\"213_down\"][\"Wav2-1\"][\"Wav2-2\"])\n",
    "    "
   ]
  },
  {
   "cell_type": "code",
   "execution_count": null,
   "id": "a07ef583",
   "metadata": {},
   "outputs": [],
   "source": []
  }
 ],
 "metadata": {
  "kernelspec": {
   "display_name": "Python 3",
   "language": "python",
   "name": "python3"
  },
  "language_info": {
   "codemirror_mode": {
    "name": "ipython",
    "version": 3
   },
   "file_extension": ".py",
   "mimetype": "text/x-python",
   "name": "python",
   "nbconvert_exporter": "python",
   "pygments_lexer": "ipython3",
   "version": "3.6.8"
  }
 },
 "nbformat": 4,
 "nbformat_minor": 5
}
