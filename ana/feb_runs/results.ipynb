{
 "cells": [
  {
   "cell_type": "code",
   "execution_count": 1,
   "id": "49c3e63c",
   "metadata": {},
   "outputs": [
    {
     "name": "stdout",
     "output_type": "stream",
     "text": [
      "/eos/home-i00/d/dunetms/SWAN_projects/FBG_TMS\n",
      "/eos/home-i00/d/dunetms/SWAN_projects/FBG_TMS/ana_tools/plateaus.json\n"
     ]
    }
   ],
   "source": [
    "import sys\n",
    "sys.path.insert(1, '../../ana_tools')\n",
    "import getters, tools, graphic_tools, setters\n",
    "import matplotlib.pyplot as plt\n",
    "plt.style.use('../../ana_tools/presentation.mplstyle')\n",
    "import numpy as np\n",
    "path = \"/eos/user/j/jcapotor/FBGana/camara_climatica/FebruaryRuns/\"\n",
    "plateaus = getters.get_plateaus()\n",
    "colors = {\"Wav1-1\":\"blue\", \"Wav1-2\":\"orange\", \"Wav1-3\":\"red\", \"Wav1-4\":\"green\",\n",
    "          \"Wav2-1\":\"yellow\", \"Wav2-2\":\"black\", \"Wav2-3\":\"grey\", \"Wav2-4\":\"purple\", \"Wav2-5\":\"darkred\"}"
   ]
  },
  {
   "cell_type": "code",
   "execution_count": null,
   "id": "8c1c8b38",
   "metadata": {},
   "outputs": [
    {
     "name": "stdout",
     "output_type": "stream",
     "text": [
      "Keys to read: ['10Av1', '11Av1', '12Av1', '13Av1', '14Av1', '15Av1', '16Av1', '17Av1', '18Av1', '19Av1', '1Av1', '20Av1', '21Av1', '22Av1', '23Av1', '2Av1', '3Av1', '4Av1', '5Av1', '6Av1', '7Av1', '8Av1', '9Av1']\n"
     ]
    },
    {
     "name": "stderr",
     "output_type": "stream",
     "text": [
      "Reading peaks key: Av:  83%|████████▎ | 19/23 [01:06<00:08,  2.13s/it]"
     ]
    }
   ],
   "source": [
    "dates = [\"20230221\", \"20230222\", \"20230223\", \"20230224\"]\n",
    "colors = {\"20230221\":\"blue\", \"20230222\":\"orange\", \"20230223\":\"red\", \"20230224\":\"black\"}\n",
    "fig, axes = graphic_tools.make_figure(ncols=2, nrows=2)\n",
    "fig.set_size_inches(20, 10)\n",
    "fig.suptitle(\"Offsets repeatibility\")\n",
    "for date in dates:\n",
    "    peaks = getters.get_raw_data(path_to_split=path+date+\"/\", filetype=\"peaks\", pol=\"Av\").sort_values(by=\"Timestamp\").reset_index(drop=True)\n",
    "    for plateau in plateaus[date]:\n",
    "        cnt = 0\n",
    "        t0 = plateaus[date][plateau][0]\n",
    "        tf = plateaus[date][plateau][1]\n",
    "        pcut = peaks.loc[(peaks[\"Timestamp\"]>t0) & (peaks[\"Timestamp\"]<tf)].reset_index(drop=True)\n",
    "        for sens in peaks.columns:\n",
    "            if sens == \"Timestamp\" or sens[3]==\"1\":\n",
    "                continue\n",
    "            axes[cnt].errorbar(int(plateau.split(\"_\")[0]),\n",
    "                             1e12*np.mean(pcut[sens]-pcut[\"Wav2-1\"]),\n",
    "                               fmt=\"o\",\n",
    "                               yerr=1e12*np.std(pcut[sens]-pcut[\"Wav2-1\"]),\n",
    "                               capsize=5,\n",
    "                             color=colors[date])\n",
    "            axes[cnt].set_title(sens + \" - Wav2-1\")\n",
    "            axes[cnt].set_xlabel(\"Temperature (K)\")\n",
    "            axes[cnt].set_ylabel(\"Wavelength offset (pm)\")\n",
    "            cnt += 1"
   ]
  },
  {
   "cell_type": "markdown",
   "id": "f629432a",
   "metadata": {},
   "source": [
    "# Repeatibility of the offsets in February runs\n",
    "\n",
    "## 20230221 and 20230222"
   ]
  },
  {
   "cell_type": "code",
   "execution_count": null,
   "id": "86aca9ce",
   "metadata": {},
   "outputs": [],
   "source": [
    "dates = [\"20230221\", \"20230222\"]\n",
    "colors = {\"20230321\":\"blue\", \"20230322\":\"orange\", \"20230329\":\"red\"}\n",
    "fig, axes = graphic_tools.make_figure(ncols=2, nrows=2)\n",
    "fig.set_size_inches(20, 10)\n",
    "fig.suptitle(\"Offsets repeatibility\")\n",
    "for date in dates:\n",
    "    peaks = getters.get_raw_data(path_to_split=path+date+\"/\", filetype=\"peaks\", pol=\"Av\").sort_values(by=\"Timestamp\").reset_index(drop=True)\n",
    "    for plateau in plateaus[date]:\n",
    "        if plateau == \"273_down\":\n",
    "            continue\n",
    "        cnt = 0\n",
    "        t0 = plateaus[date][plateau][0]\n",
    "        tf = plateaus[date][plateau][1]\n",
    "        pcut = peaks.loc[(peaks[\"Timestamp\"]>t0) & (peaks[\"Timestamp\"]<tf)].reset_index(drop=True)\n",
    "        for sens in peaks.columns:\n",
    "            if sens == \"Timestamp\" or sens[3]==\"2\":\n",
    "                continue\n",
    "            axes[cnt].errorbar(int(plateau.split(\"_\")[0]),\n",
    "                             1e12*np.mean(pcut[sens]-pcut[\"Wav1-1\"]),\n",
    "                               fmt=\"o\",\n",
    "                               yerr=1e12*np.std(pcut[sens]-pcut[\"Wav1-1\"]),\n",
    "                               capsize=5,\n",
    "                             color=colors[date])\n",
    "            axes[cnt].set_title(sens + \" - Wav1-1\")\n",
    "            axes[cnt].set_xlabel(\"Temperature (K)\")\n",
    "            axes[cnt].set_ylabel(\"Wavelength offset (pm)\")\n",
    "            cnt += 1"
   ]
  },
  {
   "cell_type": "markdown",
   "id": "745b8b7d",
   "metadata": {},
   "source": [
    "## 20230223 and 20230223"
   ]
  }
 ],
 "metadata": {
  "kernelspec": {
   "display_name": "Python 3",
   "language": "python",
   "name": "python3"
  },
  "language_info": {
   "codemirror_mode": {
    "name": "ipython",
    "version": 3
   },
   "file_extension": ".py",
   "mimetype": "text/x-python",
   "name": "python",
   "nbconvert_exporter": "python",
   "pygments_lexer": "ipython3",
   "version": "3.9.12"
  }
 },
 "nbformat": 4,
 "nbformat_minor": 5
}
