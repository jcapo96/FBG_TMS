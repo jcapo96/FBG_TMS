{
 "cells": [
  {
   "cell_type": "code",
   "execution_count": 11,
   "metadata": {},
   "outputs": [],
   "source": [
    "import read_files_v2, manage_data\n",
    "from scipy.optimize import curve_fit\n",
    "import matplotlib.pyplot as plt\n",
    "import numpy as np\n",
    "import pandas as pd"
   ]
  },
  {
   "cell_type": "code",
   "execution_count": 12,
   "metadata": {},
   "outputs": [],
   "source": [
    "path_to_folder = \"/eos/user/j/jcapotor/FBGdata/Data/PatchCableTests/20230209/\"\n",
    "files = [\"1\", \"2\", \"3\", \"4\", \"5\", \"6\", \"7\", \"8\"]"
   ]
  },
  {
   "cell_type": "code",
   "execution_count": 13,
   "metadata": {},
   "outputs": [],
   "source": [
    "def line(x, A, B):\n",
    "    return A+B*x"
   ]
  },
  {
   "cell_type": "code",
   "execution_count": null,
   "metadata": {},
   "outputs": [],
   "source": [
    "amp_results = {}\n",
    "wav_results = {}\n",
    "fwhm_results = {}\n",
    "residuals_results = {}\n",
    "baseline_results = {}\n",
    "for file in files:\n",
    "    try:\n",
    "        print(\"Filling Run\" + file)\n",
    "        peaks = read_files.read_peaks(path_to_folder + \"Run\"+file+\"_peaks\")\n",
    "        peaks_p, peaks_s, peaks_p_full, peaks_s_full = manage_data.process_data(peaks)\n",
    "        spectrums = read_files.read_spectrums(path_to_folder + \"Run\"+file+\"_specs\", [0])\n",
    "        spectrums_p, spectrums_s, spectrums_p_full, spectrums_s_full = manage_data.process_data(spectrums)\n",
    "        spectrums_p, peaks_p = manage_data.match_dataframes(spectrums_p, peaks_p)\n",
    "\n",
    "        amp_results[\"Run\"+file] = {}\n",
    "        wav_results[\"Run\"+file] = {}\n",
    "        fwhm_results[\"Run\"+file] = {}\n",
    "        residuals_results[\"Run\"+file] = {}\n",
    "        baseline_results[\"Run\"+file] = np.mean(spectrums_p[\"Baseline\"])\n",
    "        for variable in [\"Wav1-1\", \"Wav1-2\", \"Wav1-3\", \"Wav1-4\"]:\n",
    "            amp_results[\"Run\"+file][\"specs_P_\"+variable+\"_amp (AU)\"] = str(np.round(np.mean(spectrums_p[variable+\"_amp\"]), 0)) + \" +- \" + str(np.round(np.std(spectrums_p[variable+\"_amp\"]),0))\n",
    "            wav_results[\"Run\"+file][\"peaks_P_\"+variable] = str(np.round(np.mean(peaks_p[variable]*1e9), 6)) + \" +- \" + str(np.round(np.std(peaks_p[variable]*1e9), 6)) + \" nm\"\n",
    "            wav_results[\"Run\"+file][\"specs_P_\"+variable] = str(np.round(np.mean(spectrums_p[variable]), 6)) + \" +- \" + str(np.round(np.std(spectrums_p[variable]), 6)) + \" nm\"\n",
    "            fwhm_results[\"Run\"+file][\"specs_P_\"+variable+\"_sigma\"] = str(np.round(np.mean(spectrums_p[variable+\"_sigma\"]), 6)) + \" +- \" + str(np.round(np.std(spectrums_p[variable+\"_sigma\"]), 6)) + \" nm\"\n",
    "            popt_specs, pcov_specs = curve_fit(line, spectrums_p[\"Timestamp\"], spectrums_p[variable])\n",
    "            popt_peaks, pcov_peaks = curve_fit(line, peaks_p[\"Timestamp\"], peaks_p[variable]*1e9)\n",
    "            res_specs = line(spectrums_p[\"Timestamp\"], popt_specs[0], popt_specs[1]) - spectrums_p[variable]\n",
    "            res_peaks = line(peaks_p[\"Timestamp\"], popt_peaks[0], popt_peaks[1]) - peaks_p[variable]*1e9\n",
    "            \n",
    "            residuals_results[\"Run\"+file][\"peaks_P\"+variable+\"_residuals\"] = (np.round(np.std(res_peaks*1e6), 1))\n",
    "            residuals_results[\"Run\"+file][\"spectrums_P\"+variable+\"_residuals\"] = (np.round(np.std(res_specs*1e6), 1))\n",
    "    except:\n",
    "        continue"
   ]
  },
  {
   "cell_type": "code",
   "execution_count": 15,
   "metadata": {},
   "outputs": [
    {
     "name": "stdout",
     "output_type": "stream",
     "text": [
      "Residuals (fm)\n",
      "      peaks_PWav1-1_residuals  spectrums_PWav1-1_residuals  \\\n",
      "Run1                    112.8                        131.8   \n",
      "Run2                     15.3                         24.5   \n",
      "Run3              384634203.6                         41.2   \n",
      "Run4                      NaN                          NaN   \n",
      "Run5                      0.0                         56.8   \n",
      "Run6                      NaN                          NaN   \n",
      "Run7                      0.0                       4482.2   \n",
      "\n",
      "      peaks_PWav1-2_residuals  spectrums_PWav1-2_residuals  \\\n",
      "Run1                    176.5                        191.7   \n",
      "Run2                     17.6                         28.4   \n",
      "Run3                1271812.8                         45.0   \n",
      "Run4                      NaN                          NaN   \n",
      "Run5                      0.0                        430.8   \n",
      "Run6                      NaN                          NaN   \n",
      "Run7                      0.0                         12.7   \n",
      "\n",
      "      peaks_PWav1-3_residuals  spectrums_PWav1-3_residuals  \\\n",
      "Run1                    202.6                        224.1   \n",
      "Run2                     16.2                         21.1   \n",
      "Run3                1272818.5                         76.9   \n",
      "Run4                      NaN                          NaN   \n",
      "Run5                      0.0                       1093.7   \n",
      "Run6                      NaN                          NaN   \n",
      "Run7                      0.0                         68.3   \n",
      "\n",
      "      peaks_PWav1-4_residuals  spectrums_PWav1-4_residuals  \n",
      "Run1                    198.7                        209.9  \n",
      "Run2                     13.8                         18.4  \n",
      "Run3                1220404.7                         87.7  \n",
      "Run4                      NaN                          NaN  \n",
      "Run5                      0.0                        882.1  \n",
      "Run6                      NaN                          NaN  \n",
      "Run7                      0.0                      11023.8  \n"
     ]
    }
   ],
   "source": [
    "print(\"Residuals (fm)\")\n",
    "residuals = pd.DataFrame(residuals_results).T\n",
    "print(residuals)"
   ]
  },
  {
   "cell_type": "code",
   "execution_count": 18,
   "metadata": {},
   "outputs": [
    {
     "name": "stdout",
     "output_type": "stream",
     "text": [
      "                  peaks_P_Wav1-1              specs_P_Wav1-1  \\\n",
      "Run1   1540.031042 +- 0.00014 nm  1540.031365 +- 0.000159 nm   \n",
      "Run2   1540.028434 +- 7.4e-05 nm   1540.028736 +- 5.4e-05 nm   \n",
      "Run3  339.730011 +- 595.35653 nm   1540.02738 +- 0.000101 nm   \n",
      "Run4               0.0 +- 0.0 nm  1540.037889 +- 0.000322 nm   \n",
      "Run5               0.0 +- 0.0 nm  1540.032982 +- 0.000201 nm   \n",
      "Run6               0.0 +- 0.0 nm   1539.705255 +- 0.20039 nm   \n",
      "Run7               0.0 +- 0.0 nm   1540.02705 +- 0.004875 nm   \n",
      "\n",
      "                  peaks_P_Wav1-2              specs_P_Wav1-2  \\\n",
      "Run1  1545.122736 +- 0.000296 nm   1545.12336 +- 0.000335 nm   \n",
      "Run2   1545.121536 +- 3.7e-05 nm   1545.122366 +- 5.7e-05 nm   \n",
      "Run3  1541.151186 +- 1.969945 nm  1545.123342 +- 0.000198 nm   \n",
      "Run4                         NaN                         NaN   \n",
      "Run5               0.0 +- 0.0 nm   1545.133542 +- 0.00101 nm   \n",
      "Run6                         NaN                         NaN   \n",
      "Run7               0.0 +- 0.0 nm   1545.103362 +- 0.00011 nm   \n",
      "\n",
      "                  peaks_P_Wav1-3              specs_P_Wav1-3  \\\n",
      "Run1  1550.214737 +- 0.000211 nm  1550.215007 +- 0.000238 nm   \n",
      "Run2  1550.212858 +- 0.000175 nm  1550.213271 +- 0.000205 nm   \n",
      "Run3  1546.245971 +- 1.969007 nm   1550.215754 +- 0.00024 nm   \n",
      "Run4                         NaN                         NaN   \n",
      "Run5               0.0 +- 0.0 nm  1550.225864 +- 0.001416 nm   \n",
      "Run6                         NaN                         NaN   \n",
      "Run7               0.0 +- 0.0 nm   1550.203409 +- 7.4e-05 nm   \n",
      "\n",
      "                  peaks_P_Wav1-4              specs_P_Wav1-4  \n",
      "Run1  1555.105446 +- 0.000228 nm  1555.106248 +- 0.000281 nm  \n",
      "Run2  1555.103269 +- 0.000106 nm  1555.104029 +- 0.000113 nm  \n",
      "Run3  1551.293198 +- 1.889254 nm  1555.102453 +- 0.000242 nm  \n",
      "Run4                         NaN                         NaN  \n",
      "Run5               0.0 +- 0.0 nm  1555.099344 +- 0.002172 nm  \n",
      "Run6                         NaN                         NaN  \n",
      "Run7               0.0 +- 0.0 nm  1555.017944 +- 0.020529 nm  \n",
      "Comparison of I4G peak - Spectrums peak (fm)\n",
      "       Wav1-1 (fm)   Wav1-2 (fm)   Wav1-3 (fm)   Wav1-4 (fm)\n",
      "Run1  3.230000e+02  6.240000e+02  2.700000e+02  8.020000e+02\n",
      "Run2  3.020000e+02  8.300000e+02  4.130000e+02  7.600000e+02\n",
      "Run3  1.200297e+09  3.972156e+06  3.969783e+06  3.809255e+06\n",
      "Run4  1.540038e+09           NaN           NaN           NaN\n",
      "Run5  1.540033e+09  1.545134e+09  1.550226e+09  1.555099e+09\n",
      "Run6  1.539705e+09           NaN           NaN           NaN\n",
      "Run7  1.540027e+09  1.545103e+09  1.550203e+09  1.555018e+09\n"
     ]
    }
   ],
   "source": [
    "residuals = pd.DataFrame(wav_results).T\n",
    "print(residuals)\n",
    "print(\"Comparison of I4G peak - Spectrums peak (fm)\")\n",
    "comparison = {}\n",
    "for index, row in residuals.iterrows():\n",
    "    comparison[index] = {}\n",
    "    for i in range(1,5):\n",
    "        try:\n",
    "            peaks_name = \"peaks_P_Wav1-\"+str(i)\n",
    "            specs_name = \"specs_P_Wav1-\"+str(i)\n",
    "            peaks_value = float(row[peaks_name].split(\" \")[0])\n",
    "            specs_value = float(row[specs_name].split(\" \")[0])\n",
    "            comparison[index][\"Wav1-\"+str(i)+\" (fm)\"] = (specs_value - peaks_value)*1e6\n",
    "        except:\n",
    "            continue\n",
    "print(pd.DataFrame(comparison).T)"
   ]
  },
  {
   "cell_type": "code",
   "execution_count": 19,
   "metadata": {},
   "outputs": [
    {
     "name": "stdout",
     "output_type": "stream",
     "text": [
      "     specs_P_Wav1-1_amp (AU) specs_P_Wav1-2_amp (AU) specs_P_Wav1-3_amp (AU)  \\\n",
      "Run1          4146.0 +- 23.0          3965.0 +- 44.0          3618.0 +- 40.0   \n",
      "Run2          1183.0 +- 30.0           889.0 +- 41.0           692.0 +- 86.0   \n",
      "Run3          3915.0 +- 10.0          3912.0 +- 19.0          3651.0 +- 29.0   \n",
      "Run4            223.0 +- 4.0                     NaN                     NaN   \n",
      "Run5            279.0 +- 2.0            231.0 +- 0.0            211.0 +- 1.0   \n",
      "Run6            354.0 +- 1.0                     NaN                     NaN   \n",
      "Run7            210.0 +- 0.0            197.0 +- 0.0            176.0 +- 0.0   \n",
      "\n",
      "     specs_P_Wav1-4_amp (AU)  \n",
      "Run1          2905.0 +- 35.0  \n",
      "Run2          706.0 +- 107.0  \n",
      "Run3          2786.0 +- 13.0  \n",
      "Run4                     NaN  \n",
      "Run5           188.0 +- 11.0  \n",
      "Run6                     NaN  \n",
      "Run7            188.0 +- 0.0  \n"
     ]
    }
   ],
   "source": [
    "print(pd.DataFrame(amp_results).T)"
   ]
  },
  {
   "cell_type": "code",
   "execution_count": 20,
   "metadata": {},
   "outputs": [
    {
     "name": "stdout",
     "output_type": "stream",
     "text": [
      "Sigma of gaussian fit (pm)\n",
      "         specs_P_Wav1-1_sigma     specs_P_Wav1-2_sigma  \\\n",
      "Run1  0.063906 +- 0.006202 nm  0.062314 +- 0.005304 nm   \n",
      "Run2  0.107367 +- 0.011878 nm  0.069013 +- 0.005701 nm   \n",
      "Run3  0.085108 +- 0.007169 nm  0.082284 +- 0.005962 nm   \n",
      "Run4  0.001072 +- 0.007197 nm                      NaN   \n",
      "Run5   0.01118 +- 0.001072 nm  0.008984 +- 0.016326 nm   \n",
      "Run6  0.006476 +- 0.002917 nm                      NaN   \n",
      "Run7   0.010859 +- 0.00255 nm  0.012721 +- 0.000107 nm   \n",
      "\n",
      "         specs_P_Wav1-3_sigma      specs_P_Wav1-4_sigma  \n",
      "Run1  0.075623 +- 0.011656 nm   0.050721 +- 0.003618 nm  \n",
      "Run2  0.052531 +- 0.003829 nm   0.063677 +- 0.004355 nm  \n",
      "Run3  0.064113 +- 0.003031 nm   0.057135 +- 0.002471 nm  \n",
      "Run4                      NaN                       NaN  \n",
      "Run5  0.005723 +- 0.012725 nm  -0.003106 +- 0.018819 nm  \n",
      "Run6                      NaN                       NaN  \n",
      "Run7     0.013338 +- 4e-05 nm      0.0111 +- 4.9e-05 nm  \n"
     ]
    }
   ],
   "source": [
    "print(\"Sigma of gaussian fit (pm)\")\n",
    "print(pd.DataFrame(fwhm_results).T)"
   ]
  },
  {
   "cell_type": "code",
   "execution_count": 23,
   "metadata": {},
   "outputs": [
    {
     "name": "stdout",
     "output_type": "stream",
     "text": [
      "0     [136, 119, 101, 90, 80, 80, 79, 88, 97, 115, 1...\n",
      "1     [195, 218, 241, 261, 279, 292, 304, 309, 312, ...\n",
      "2     [134, 116, 100, 88, 80, 77, 79, 86, 98, 115, 1...\n",
      "3     [200, 224, 245, 264, 280, 294, 303, 310, 310, ...\n",
      "4     [135, 115, 101, 87, 81, 76, 80, 84, 100, 115, ...\n",
      "5     [198, 222, 244, 266, 281, 296, 304, 311, 311, ...\n",
      "6     [134, 115, 100, 87, 80, 77, 80, 86, 100, 116, ...\n",
      "7     [201, 225, 247, 266, 283, 296, 304, 310, 310, ...\n",
      "8     [131, 113, 97, 86, 78, 78, 80, 90, 102, 120, 1...\n",
      "9     [202, 225, 248, 266, 285, 296, 307, 310, 312, ...\n",
      "10    [133, 116, 98, 88, 80, 78, 79, 89, 100, 120, 1...\n",
      "11    [201, 224, 247, 266, 284, 296, 306, 311, 312, ...\n",
      "12    [130, 111, 96, 84, 78, 77, 82, 90, 104, 122, 1...\n",
      "13    [204, 228, 249, 270, 285, 299, 306, 312, 310, ...\n",
      "14    [131, 111, 98, 84, 80, 76, 82, 88, 104, 120, 1...\n",
      "15    [206, 230, 252, 272, 287, 300, 308, 312, 311, ...\n",
      "16    [128, 110, 95, 84, 78, 76, 80, 90, 104, 123, 1...\n",
      "17    [206, 229, 251, 270, 287, 299, 308, 312, 312, ...\n",
      "18    [128, 110, 94, 85, 77, 78, 80, 92, 104, 124, 1...\n",
      "19    [206, 230, 254, 272, 290, 300, 310, 312, 314, ...\n",
      "20    [126, 110, 94, 84, 77, 78, 81, 92, 106, 126, 1...\n",
      "21    [208, 232, 254, 272, 289, 300, 309, 312, 312, ...\n",
      "22    [126, 108, 94, 84, 78, 78, 83, 92, 108, 127, 1...\n",
      "23    [208, 232, 254, 273, 288, 302, 308, 312, 310, ...\n",
      "24    [126, 106, 94, 80, 78, 75, 83, 92, 109, 127, 1...\n",
      "25    [210, 234, 256, 276, 290, 303, 310, 314, 311, ...\n",
      "26    [124, 106, 92, 82, 77, 77, 82, 92, 108, 126, 1...\n",
      "27    [212, 236, 257, 275, 291, 302, 310, 312, 312, ...\n",
      "28    [121, 104, 90, 82, 75, 77, 81, 94, 108, 128, 1...\n",
      "Name: Data, dtype: object\n"
     ]
    }
   ],
   "source": [
    "print(spectrums[\"Data\"])"
   ]
  },
  {
   "cell_type": "code",
   "execution_count": null,
   "metadata": {},
   "outputs": [],
   "source": []
  }
 ],
 "metadata": {
  "interpreter": {
   "hash": "0670aacaf5416ed8947019f9606138468b9d61d218d571df06a0d7d32be65512"
  },
  "kernelspec": {
   "display_name": "Python 3.6.8 ('venv': venv)",
   "language": "python",
   "name": "python3"
  },
  "language_info": {
   "codemirror_mode": {
    "name": "ipython",
    "version": 3
   },
   "file_extension": ".py",
   "mimetype": "text/x-python",
   "name": "python",
   "nbconvert_exporter": "python",
   "pygments_lexer": "ipython3",
   "version": "3.6.8"
  },
  "orig_nbformat": 4
 },
 "nbformat": 4,
 "nbformat_minor": 2
}
